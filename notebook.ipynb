{
 "cells": [
  {
   "attachments": {},
   "cell_type": "markdown",
   "metadata": {},
   "source": [
    "# OOD Detection for Customer Intent Classification\n",
    "\n",
    "## TODO\n",
    "\n",
    "- Implement `MSPScorer` and `EnergyScorer`\n",
    "- Thresold the scoring functions\n",
    "- Compute classification metrics (AUROC, AUPR, Error rate, etc.)\n",
    "\n",
    "## Resources\n",
    "\n",
    "Datasets \n",
    "- [banking77](https://huggingface.co/datasets/banking77)\n",
    "- [ATIS Airline Travel Information System](https://www.kaggle.com/datasets/hassanamin/atis-airlinetravelinformationsystem) \n",
    "- [Bitext - Customer Service Tagged Training Dataset for Intent Detection](https://github.com/bitext/customer-support-intent-detection-training-dataset)\n",
    "\n",
    "Model\n",
    "- [philschmid/BERT-Banking77](https://huggingface.co/philschmid/BERT-Banking77) \n",
    "\n",
    "BERT resources\n",
    "- [BERT Neural Network - EXPLAINED!](https://www.youtube.com/watch?v=xI0HHN5XKDo) \n",
    "- [Transformer Neural Networks - EXPLAINED! (Attention is all you need)](https://www.youtube.com/watch?v=TQQlZhbC5ps)\n",
    "\n",
    "OOD detection\n",
    "- [`Todd`](https://github.com/icannos/Todd)\n",
    "- [OOD Classification `ToddBenchmark`](https://github.com/icannos/ToddBenchmark/tree/master/examples/classifications) "
   ]
  },
  {
   "attachments": {},
   "cell_type": "markdown",
   "metadata": {},
   "source": [
    "## Setup"
   ]
  },
  {
   "attachments": {},
   "cell_type": "markdown",
   "metadata": {},
   "source": [
    "### Import"
   ]
  },
  {
   "cell_type": "code",
   "execution_count": 1,
   "metadata": {},
   "outputs": [],
   "source": [
    "%load_ext autoreload\n",
    "%autoreload 2"
   ]
  },
  {
   "cell_type": "code",
   "execution_count": 57,
   "metadata": {},
   "outputs": [],
   "source": [
    "import pandas as pd \n",
    "\n",
    "from tqdm import tqdm\n",
    "from typing import List\n",
    "\n",
    "from rich import print\n",
    "\n",
    "from itertools import chain"
   ]
  },
  {
   "cell_type": "code",
   "execution_count": 3,
   "metadata": {},
   "outputs": [],
   "source": [
    "from transformers import AutoConfig\n",
    "\n",
    "import torch \n",
    "from torch import Tensor"
   ]
  },
  {
   "cell_type": "code",
   "execution_count": 4,
   "metadata": {},
   "outputs": [],
   "source": [
    "from Todd import (\n",
    "    ScorerType, \n",
    "    MahalanobisScorer, \n",
    "    CosineProjectionScorer, \n",
    "    DataDepthScorer, \n",
    ")"
   ]
  },
  {
   "cell_type": "code",
   "execution_count": 5,
   "metadata": {},
   "outputs": [],
   "source": [
    "from toddbenchmark.classification_datasets import (\n",
    "    prep_model, \n",
    "    load_b77, \n",
    ")\n",
    "from toddbenchmark.classification_datasets_configs import (\n",
    "    DATASETS_CONFIGS,\n",
    "    load_requested_dataset,\n",
    ")\n",
    "\n",
    "from toddbenchmark.utils_classification import (\n",
    "    prepare_detectors,\n",
    "    evaluate_dataloader,\n",
    ")"
   ]
  },
  {
   "attachments": {},
   "cell_type": "markdown",
   "metadata": {},
   "source": [
    "### Load config, model and tokenizer"
   ]
  },
  {
   "cell_type": "code",
   "execution_count": 6,
   "metadata": {},
   "outputs": [],
   "source": [
    "MODELS = {\"BERT\": \"philschmid/BERT-Banking77\", \"DistilBERT\": \"philschmid/DistilBERT-Banking77\"} "
   ]
  },
  {
   "cell_type": "code",
   "execution_count": 7,
   "metadata": {},
   "outputs": [
    {
     "data": {
      "text/plain": [
       "BertConfig {\n",
       "  \"_name_or_path\": \"philschmid/BERT-Banking77\",\n",
       "  \"_num_labels\": 77,\n",
       "  \"architectures\": [\n",
       "    \"BertForSequenceClassification\"\n",
       "  ],\n",
       "  \"attention_probs_dropout_prob\": 0.1,\n",
       "  \"classifier_dropout\": null,\n",
       "  \"gradient_checkpointing\": false,\n",
       "  \"hidden_act\": \"gelu\",\n",
       "  \"hidden_dropout_prob\": 0.1,\n",
       "  \"hidden_size\": 768,\n",
       "  \"id2label\": {\n",
       "    \"0\": \"Refund_not_showing_up\",\n",
       "    \"1\": \"activate_my_card\",\n",
       "    \"2\": \"age_limit\",\n",
       "    \"3\": \"apple_pay_or_google_pay\",\n",
       "    \"4\": \"atm_support\",\n",
       "    \"5\": \"automatic_top_up\",\n",
       "    \"6\": \"balance_not_updated_after_bank_transfer\",\n",
       "    \"7\": \"balance_not_updated_after_cheque_or_cash_deposit\",\n",
       "    \"8\": \"beneficiary_not_allowed\",\n",
       "    \"9\": \"cancel_transfer\",\n",
       "    \"10\": \"card_about_to_expire\",\n",
       "    \"11\": \"card_acceptance\",\n",
       "    \"12\": \"card_arrival\",\n",
       "    \"13\": \"card_delivery_estimate\",\n",
       "    \"14\": \"card_linking\",\n",
       "    \"15\": \"card_not_working\",\n",
       "    \"16\": \"card_payment_fee_charged\",\n",
       "    \"17\": \"card_payment_not_recognised\",\n",
       "    \"18\": \"card_payment_wrong_exchange_rate\",\n",
       "    \"19\": \"card_swallowed\",\n",
       "    \"20\": \"cash_withdrawal_charge\",\n",
       "    \"21\": \"cash_withdrawal_not_recognised\",\n",
       "    \"22\": \"change_pin\",\n",
       "    \"23\": \"compromised_card\",\n",
       "    \"24\": \"contactless_not_working\",\n",
       "    \"25\": \"country_support\",\n",
       "    \"26\": \"declined_card_payment\",\n",
       "    \"27\": \"declined_cash_withdrawal\",\n",
       "    \"28\": \"declined_transfer\",\n",
       "    \"29\": \"direct_debit_payment_not_recognised\",\n",
       "    \"30\": \"disposable_card_limits\",\n",
       "    \"31\": \"edit_personal_details\",\n",
       "    \"32\": \"exchange_charge\",\n",
       "    \"33\": \"exchange_rate\",\n",
       "    \"34\": \"exchange_via_app\",\n",
       "    \"35\": \"extra_charge_on_statement\",\n",
       "    \"36\": \"failed_transfer\",\n",
       "    \"37\": \"fiat_currency_support\",\n",
       "    \"38\": \"get_disposable_virtual_card\",\n",
       "    \"39\": \"get_physical_card\",\n",
       "    \"40\": \"getting_spare_card\",\n",
       "    \"41\": \"getting_virtual_card\",\n",
       "    \"42\": \"lost_or_stolen_card\",\n",
       "    \"43\": \"lost_or_stolen_phone\",\n",
       "    \"44\": \"order_physical_card\",\n",
       "    \"45\": \"passcode_forgotten\",\n",
       "    \"46\": \"pending_card_payment\",\n",
       "    \"47\": \"pending_cash_withdrawal\",\n",
       "    \"48\": \"pending_top_up\",\n",
       "    \"49\": \"pending_transfer\",\n",
       "    \"50\": \"pin_blocked\",\n",
       "    \"51\": \"receiving_money\",\n",
       "    \"52\": \"request_refund\",\n",
       "    \"53\": \"reverted_card_payment?\",\n",
       "    \"54\": \"supported_cards_and_currencies\",\n",
       "    \"55\": \"terminate_account\",\n",
       "    \"56\": \"top_up_by_bank_transfer_charge\",\n",
       "    \"57\": \"top_up_by_card_charge\",\n",
       "    \"58\": \"top_up_by_cash_or_cheque\",\n",
       "    \"59\": \"top_up_failed\",\n",
       "    \"60\": \"top_up_limits\",\n",
       "    \"61\": \"top_up_reverted\",\n",
       "    \"62\": \"topping_up_by_card\",\n",
       "    \"63\": \"transaction_charged_twice\",\n",
       "    \"64\": \"transfer_fee_charged\",\n",
       "    \"65\": \"transfer_into_account\",\n",
       "    \"66\": \"transfer_not_received_by_recipient\",\n",
       "    \"67\": \"transfer_timing\",\n",
       "    \"68\": \"unable_to_verify_identity\",\n",
       "    \"69\": \"verify_my_identity\",\n",
       "    \"70\": \"verify_source_of_funds\",\n",
       "    \"71\": \"verify_top_up\",\n",
       "    \"72\": \"virtual_card_not_working\",\n",
       "    \"73\": \"visa_or_mastercard\",\n",
       "    \"74\": \"why_verify_identity\",\n",
       "    \"75\": \"wrong_amount_of_cash_received\",\n",
       "    \"76\": \"wrong_exchange_rate_for_cash_withdrawal\"\n",
       "  },\n",
       "  \"initializer_range\": 0.02,\n",
       "  \"intermediate_size\": 3072,\n",
       "  \"label2id\": {\n",
       "    \"Refund_not_showing_up\": 0,\n",
       "    \"activate_my_card\": 1,\n",
       "    \"age_limit\": 2,\n",
       "    \"apple_pay_or_google_pay\": 3,\n",
       "    \"atm_support\": 4,\n",
       "    \"automatic_top_up\": 5,\n",
       "    \"balance_not_updated_after_bank_transfer\": 6,\n",
       "    \"balance_not_updated_after_cheque_or_cash_deposit\": 7,\n",
       "    \"beneficiary_not_allowed\": 8,\n",
       "    \"cancel_transfer\": 9,\n",
       "    \"card_about_to_expire\": 10,\n",
       "    \"card_acceptance\": 11,\n",
       "    \"card_arrival\": 12,\n",
       "    \"card_delivery_estimate\": 13,\n",
       "    \"card_linking\": 14,\n",
       "    \"card_not_working\": 15,\n",
       "    \"card_payment_fee_charged\": 16,\n",
       "    \"card_payment_not_recognised\": 17,\n",
       "    \"card_payment_wrong_exchange_rate\": 18,\n",
       "    \"card_swallowed\": 19,\n",
       "    \"cash_withdrawal_charge\": 20,\n",
       "    \"cash_withdrawal_not_recognised\": 21,\n",
       "    \"change_pin\": 22,\n",
       "    \"compromised_card\": 23,\n",
       "    \"contactless_not_working\": 24,\n",
       "    \"country_support\": 25,\n",
       "    \"declined_card_payment\": 26,\n",
       "    \"declined_cash_withdrawal\": 27,\n",
       "    \"declined_transfer\": 28,\n",
       "    \"direct_debit_payment_not_recognised\": 29,\n",
       "    \"disposable_card_limits\": 30,\n",
       "    \"edit_personal_details\": 31,\n",
       "    \"exchange_charge\": 32,\n",
       "    \"exchange_rate\": 33,\n",
       "    \"exchange_via_app\": 34,\n",
       "    \"extra_charge_on_statement\": 35,\n",
       "    \"failed_transfer\": 36,\n",
       "    \"fiat_currency_support\": 37,\n",
       "    \"get_disposable_virtual_card\": 38,\n",
       "    \"get_physical_card\": 39,\n",
       "    \"getting_spare_card\": 40,\n",
       "    \"getting_virtual_card\": 41,\n",
       "    \"lost_or_stolen_card\": 42,\n",
       "    \"lost_or_stolen_phone\": 43,\n",
       "    \"order_physical_card\": 44,\n",
       "    \"passcode_forgotten\": 45,\n",
       "    \"pending_card_payment\": 46,\n",
       "    \"pending_cash_withdrawal\": 47,\n",
       "    \"pending_top_up\": 48,\n",
       "    \"pending_transfer\": 49,\n",
       "    \"pin_blocked\": 50,\n",
       "    \"receiving_money\": 51,\n",
       "    \"request_refund\": 52,\n",
       "    \"reverted_card_payment?\": 53,\n",
       "    \"supported_cards_and_currencies\": 54,\n",
       "    \"terminate_account\": 55,\n",
       "    \"top_up_by_bank_transfer_charge\": 56,\n",
       "    \"top_up_by_card_charge\": 57,\n",
       "    \"top_up_by_cash_or_cheque\": 58,\n",
       "    \"top_up_failed\": 59,\n",
       "    \"top_up_limits\": 60,\n",
       "    \"top_up_reverted\": 61,\n",
       "    \"topping_up_by_card\": 62,\n",
       "    \"transaction_charged_twice\": 63,\n",
       "    \"transfer_fee_charged\": 64,\n",
       "    \"transfer_into_account\": 65,\n",
       "    \"transfer_not_received_by_recipient\": 66,\n",
       "    \"transfer_timing\": 67,\n",
       "    \"unable_to_verify_identity\": 68,\n",
       "    \"verify_my_identity\": 69,\n",
       "    \"verify_source_of_funds\": 70,\n",
       "    \"verify_top_up\": 71,\n",
       "    \"virtual_card_not_working\": 72,\n",
       "    \"visa_or_mastercard\": 73,\n",
       "    \"why_verify_identity\": 74,\n",
       "    \"wrong_amount_of_cash_received\": 75,\n",
       "    \"wrong_exchange_rate_for_cash_withdrawal\": 76\n",
       "  },\n",
       "  \"layer_norm_eps\": 1e-12,\n",
       "  \"max_length\": 96,\n",
       "  \"max_position_embeddings\": 512,\n",
       "  \"model_type\": \"bert\",\n",
       "  \"num_attention_heads\": 12,\n",
       "  \"num_hidden_layers\": 12,\n",
       "  \"pad_token_id\": 0,\n",
       "  \"padding\": \"max_length\",\n",
       "  \"position_embedding_type\": \"absolute\",\n",
       "  \"problem_type\": \"single_label_classification\",\n",
       "  \"torch_dtype\": \"float32\",\n",
       "  \"transformers_version\": \"4.25.1\",\n",
       "  \"type_vocab_size\": 2,\n",
       "  \"use_cache\": true,\n",
       "  \"vocab_size\": 30522\n",
       "}"
      ]
     },
     "execution_count": 7,
     "metadata": {},
     "output_type": "execute_result"
    }
   ],
   "source": [
    "config = AutoConfig.from_pretrained(MODELS[\"BERT\"]) \n",
    "config"
   ]
  },
  {
   "cell_type": "code",
   "execution_count": 8,
   "metadata": {},
   "outputs": [],
   "source": [
    "LABEL_MAPPING = config.id2label"
   ]
  },
  {
   "cell_type": "code",
   "execution_count": 9,
   "metadata": {},
   "outputs": [],
   "source": [
    "model, tokenizer = prep_model(MODELS[\"BERT\"], config={\"label\": config._num_labels})"
   ]
  },
  {
   "cell_type": "code",
   "execution_count": 10,
   "metadata": {},
   "outputs": [
    {
     "data": {
      "text/plain": [
       "BertForSequenceClassification(\n",
       "  (bert): BertModel(\n",
       "    (embeddings): BertEmbeddings(\n",
       "      (word_embeddings): Embedding(30522, 768, padding_idx=0)\n",
       "      (position_embeddings): Embedding(512, 768)\n",
       "      (token_type_embeddings): Embedding(2, 768)\n",
       "      (LayerNorm): LayerNorm((768,), eps=1e-12, elementwise_affine=True)\n",
       "      (dropout): Dropout(p=0.1, inplace=False)\n",
       "    )\n",
       "    (encoder): BertEncoder(\n",
       "      (layer): ModuleList(\n",
       "        (0): BertLayer(\n",
       "          (attention): BertAttention(\n",
       "            (self): BertSelfAttention(\n",
       "              (query): Linear(in_features=768, out_features=768, bias=True)\n",
       "              (key): Linear(in_features=768, out_features=768, bias=True)\n",
       "              (value): Linear(in_features=768, out_features=768, bias=True)\n",
       "              (dropout): Dropout(p=0.1, inplace=False)\n",
       "            )\n",
       "            (output): BertSelfOutput(\n",
       "              (dense): Linear(in_features=768, out_features=768, bias=True)\n",
       "              (LayerNorm): LayerNorm((768,), eps=1e-12, elementwise_affine=True)\n",
       "              (dropout): Dropout(p=0.1, inplace=False)\n",
       "            )\n",
       "          )\n",
       "          (intermediate): BertIntermediate(\n",
       "            (dense): Linear(in_features=768, out_features=3072, bias=True)\n",
       "            (intermediate_act_fn): GELUActivation()\n",
       "          )\n",
       "          (output): BertOutput(\n",
       "            (dense): Linear(in_features=3072, out_features=768, bias=True)\n",
       "            (LayerNorm): LayerNorm((768,), eps=1e-12, elementwise_affine=True)\n",
       "            (dropout): Dropout(p=0.1, inplace=False)\n",
       "          )\n",
       "        )\n",
       "        (1): BertLayer(\n",
       "          (attention): BertAttention(\n",
       "            (self): BertSelfAttention(\n",
       "              (query): Linear(in_features=768, out_features=768, bias=True)\n",
       "              (key): Linear(in_features=768, out_features=768, bias=True)\n",
       "              (value): Linear(in_features=768, out_features=768, bias=True)\n",
       "              (dropout): Dropout(p=0.1, inplace=False)\n",
       "            )\n",
       "            (output): BertSelfOutput(\n",
       "              (dense): Linear(in_features=768, out_features=768, bias=True)\n",
       "              (LayerNorm): LayerNorm((768,), eps=1e-12, elementwise_affine=True)\n",
       "              (dropout): Dropout(p=0.1, inplace=False)\n",
       "            )\n",
       "          )\n",
       "          (intermediate): BertIntermediate(\n",
       "            (dense): Linear(in_features=768, out_features=3072, bias=True)\n",
       "            (intermediate_act_fn): GELUActivation()\n",
       "          )\n",
       "          (output): BertOutput(\n",
       "            (dense): Linear(in_features=3072, out_features=768, bias=True)\n",
       "            (LayerNorm): LayerNorm((768,), eps=1e-12, elementwise_affine=True)\n",
       "            (dropout): Dropout(p=0.1, inplace=False)\n",
       "          )\n",
       "        )\n",
       "        (2): BertLayer(\n",
       "          (attention): BertAttention(\n",
       "            (self): BertSelfAttention(\n",
       "              (query): Linear(in_features=768, out_features=768, bias=True)\n",
       "              (key): Linear(in_features=768, out_features=768, bias=True)\n",
       "              (value): Linear(in_features=768, out_features=768, bias=True)\n",
       "              (dropout): Dropout(p=0.1, inplace=False)\n",
       "            )\n",
       "            (output): BertSelfOutput(\n",
       "              (dense): Linear(in_features=768, out_features=768, bias=True)\n",
       "              (LayerNorm): LayerNorm((768,), eps=1e-12, elementwise_affine=True)\n",
       "              (dropout): Dropout(p=0.1, inplace=False)\n",
       "            )\n",
       "          )\n",
       "          (intermediate): BertIntermediate(\n",
       "            (dense): Linear(in_features=768, out_features=3072, bias=True)\n",
       "            (intermediate_act_fn): GELUActivation()\n",
       "          )\n",
       "          (output): BertOutput(\n",
       "            (dense): Linear(in_features=3072, out_features=768, bias=True)\n",
       "            (LayerNorm): LayerNorm((768,), eps=1e-12, elementwise_affine=True)\n",
       "            (dropout): Dropout(p=0.1, inplace=False)\n",
       "          )\n",
       "        )\n",
       "        (3): BertLayer(\n",
       "          (attention): BertAttention(\n",
       "            (self): BertSelfAttention(\n",
       "              (query): Linear(in_features=768, out_features=768, bias=True)\n",
       "              (key): Linear(in_features=768, out_features=768, bias=True)\n",
       "              (value): Linear(in_features=768, out_features=768, bias=True)\n",
       "              (dropout): Dropout(p=0.1, inplace=False)\n",
       "            )\n",
       "            (output): BertSelfOutput(\n",
       "              (dense): Linear(in_features=768, out_features=768, bias=True)\n",
       "              (LayerNorm): LayerNorm((768,), eps=1e-12, elementwise_affine=True)\n",
       "              (dropout): Dropout(p=0.1, inplace=False)\n",
       "            )\n",
       "          )\n",
       "          (intermediate): BertIntermediate(\n",
       "            (dense): Linear(in_features=768, out_features=3072, bias=True)\n",
       "            (intermediate_act_fn): GELUActivation()\n",
       "          )\n",
       "          (output): BertOutput(\n",
       "            (dense): Linear(in_features=3072, out_features=768, bias=True)\n",
       "            (LayerNorm): LayerNorm((768,), eps=1e-12, elementwise_affine=True)\n",
       "            (dropout): Dropout(p=0.1, inplace=False)\n",
       "          )\n",
       "        )\n",
       "        (4): BertLayer(\n",
       "          (attention): BertAttention(\n",
       "            (self): BertSelfAttention(\n",
       "              (query): Linear(in_features=768, out_features=768, bias=True)\n",
       "              (key): Linear(in_features=768, out_features=768, bias=True)\n",
       "              (value): Linear(in_features=768, out_features=768, bias=True)\n",
       "              (dropout): Dropout(p=0.1, inplace=False)\n",
       "            )\n",
       "            (output): BertSelfOutput(\n",
       "              (dense): Linear(in_features=768, out_features=768, bias=True)\n",
       "              (LayerNorm): LayerNorm((768,), eps=1e-12, elementwise_affine=True)\n",
       "              (dropout): Dropout(p=0.1, inplace=False)\n",
       "            )\n",
       "          )\n",
       "          (intermediate): BertIntermediate(\n",
       "            (dense): Linear(in_features=768, out_features=3072, bias=True)\n",
       "            (intermediate_act_fn): GELUActivation()\n",
       "          )\n",
       "          (output): BertOutput(\n",
       "            (dense): Linear(in_features=3072, out_features=768, bias=True)\n",
       "            (LayerNorm): LayerNorm((768,), eps=1e-12, elementwise_affine=True)\n",
       "            (dropout): Dropout(p=0.1, inplace=False)\n",
       "          )\n",
       "        )\n",
       "        (5): BertLayer(\n",
       "          (attention): BertAttention(\n",
       "            (self): BertSelfAttention(\n",
       "              (query): Linear(in_features=768, out_features=768, bias=True)\n",
       "              (key): Linear(in_features=768, out_features=768, bias=True)\n",
       "              (value): Linear(in_features=768, out_features=768, bias=True)\n",
       "              (dropout): Dropout(p=0.1, inplace=False)\n",
       "            )\n",
       "            (output): BertSelfOutput(\n",
       "              (dense): Linear(in_features=768, out_features=768, bias=True)\n",
       "              (LayerNorm): LayerNorm((768,), eps=1e-12, elementwise_affine=True)\n",
       "              (dropout): Dropout(p=0.1, inplace=False)\n",
       "            )\n",
       "          )\n",
       "          (intermediate): BertIntermediate(\n",
       "            (dense): Linear(in_features=768, out_features=3072, bias=True)\n",
       "            (intermediate_act_fn): GELUActivation()\n",
       "          )\n",
       "          (output): BertOutput(\n",
       "            (dense): Linear(in_features=3072, out_features=768, bias=True)\n",
       "            (LayerNorm): LayerNorm((768,), eps=1e-12, elementwise_affine=True)\n",
       "            (dropout): Dropout(p=0.1, inplace=False)\n",
       "          )\n",
       "        )\n",
       "        (6): BertLayer(\n",
       "          (attention): BertAttention(\n",
       "            (self): BertSelfAttention(\n",
       "              (query): Linear(in_features=768, out_features=768, bias=True)\n",
       "              (key): Linear(in_features=768, out_features=768, bias=True)\n",
       "              (value): Linear(in_features=768, out_features=768, bias=True)\n",
       "              (dropout): Dropout(p=0.1, inplace=False)\n",
       "            )\n",
       "            (output): BertSelfOutput(\n",
       "              (dense): Linear(in_features=768, out_features=768, bias=True)\n",
       "              (LayerNorm): LayerNorm((768,), eps=1e-12, elementwise_affine=True)\n",
       "              (dropout): Dropout(p=0.1, inplace=False)\n",
       "            )\n",
       "          )\n",
       "          (intermediate): BertIntermediate(\n",
       "            (dense): Linear(in_features=768, out_features=3072, bias=True)\n",
       "            (intermediate_act_fn): GELUActivation()\n",
       "          )\n",
       "          (output): BertOutput(\n",
       "            (dense): Linear(in_features=3072, out_features=768, bias=True)\n",
       "            (LayerNorm): LayerNorm((768,), eps=1e-12, elementwise_affine=True)\n",
       "            (dropout): Dropout(p=0.1, inplace=False)\n",
       "          )\n",
       "        )\n",
       "        (7): BertLayer(\n",
       "          (attention): BertAttention(\n",
       "            (self): BertSelfAttention(\n",
       "              (query): Linear(in_features=768, out_features=768, bias=True)\n",
       "              (key): Linear(in_features=768, out_features=768, bias=True)\n",
       "              (value): Linear(in_features=768, out_features=768, bias=True)\n",
       "              (dropout): Dropout(p=0.1, inplace=False)\n",
       "            )\n",
       "            (output): BertSelfOutput(\n",
       "              (dense): Linear(in_features=768, out_features=768, bias=True)\n",
       "              (LayerNorm): LayerNorm((768,), eps=1e-12, elementwise_affine=True)\n",
       "              (dropout): Dropout(p=0.1, inplace=False)\n",
       "            )\n",
       "          )\n",
       "          (intermediate): BertIntermediate(\n",
       "            (dense): Linear(in_features=768, out_features=3072, bias=True)\n",
       "            (intermediate_act_fn): GELUActivation()\n",
       "          )\n",
       "          (output): BertOutput(\n",
       "            (dense): Linear(in_features=3072, out_features=768, bias=True)\n",
       "            (LayerNorm): LayerNorm((768,), eps=1e-12, elementwise_affine=True)\n",
       "            (dropout): Dropout(p=0.1, inplace=False)\n",
       "          )\n",
       "        )\n",
       "        (8): BertLayer(\n",
       "          (attention): BertAttention(\n",
       "            (self): BertSelfAttention(\n",
       "              (query): Linear(in_features=768, out_features=768, bias=True)\n",
       "              (key): Linear(in_features=768, out_features=768, bias=True)\n",
       "              (value): Linear(in_features=768, out_features=768, bias=True)\n",
       "              (dropout): Dropout(p=0.1, inplace=False)\n",
       "            )\n",
       "            (output): BertSelfOutput(\n",
       "              (dense): Linear(in_features=768, out_features=768, bias=True)\n",
       "              (LayerNorm): LayerNorm((768,), eps=1e-12, elementwise_affine=True)\n",
       "              (dropout): Dropout(p=0.1, inplace=False)\n",
       "            )\n",
       "          )\n",
       "          (intermediate): BertIntermediate(\n",
       "            (dense): Linear(in_features=768, out_features=3072, bias=True)\n",
       "            (intermediate_act_fn): GELUActivation()\n",
       "          )\n",
       "          (output): BertOutput(\n",
       "            (dense): Linear(in_features=3072, out_features=768, bias=True)\n",
       "            (LayerNorm): LayerNorm((768,), eps=1e-12, elementwise_affine=True)\n",
       "            (dropout): Dropout(p=0.1, inplace=False)\n",
       "          )\n",
       "        )\n",
       "        (9): BertLayer(\n",
       "          (attention): BertAttention(\n",
       "            (self): BertSelfAttention(\n",
       "              (query): Linear(in_features=768, out_features=768, bias=True)\n",
       "              (key): Linear(in_features=768, out_features=768, bias=True)\n",
       "              (value): Linear(in_features=768, out_features=768, bias=True)\n",
       "              (dropout): Dropout(p=0.1, inplace=False)\n",
       "            )\n",
       "            (output): BertSelfOutput(\n",
       "              (dense): Linear(in_features=768, out_features=768, bias=True)\n",
       "              (LayerNorm): LayerNorm((768,), eps=1e-12, elementwise_affine=True)\n",
       "              (dropout): Dropout(p=0.1, inplace=False)\n",
       "            )\n",
       "          )\n",
       "          (intermediate): BertIntermediate(\n",
       "            (dense): Linear(in_features=768, out_features=3072, bias=True)\n",
       "            (intermediate_act_fn): GELUActivation()\n",
       "          )\n",
       "          (output): BertOutput(\n",
       "            (dense): Linear(in_features=3072, out_features=768, bias=True)\n",
       "            (LayerNorm): LayerNorm((768,), eps=1e-12, elementwise_affine=True)\n",
       "            (dropout): Dropout(p=0.1, inplace=False)\n",
       "          )\n",
       "        )\n",
       "        (10): BertLayer(\n",
       "          (attention): BertAttention(\n",
       "            (self): BertSelfAttention(\n",
       "              (query): Linear(in_features=768, out_features=768, bias=True)\n",
       "              (key): Linear(in_features=768, out_features=768, bias=True)\n",
       "              (value): Linear(in_features=768, out_features=768, bias=True)\n",
       "              (dropout): Dropout(p=0.1, inplace=False)\n",
       "            )\n",
       "            (output): BertSelfOutput(\n",
       "              (dense): Linear(in_features=768, out_features=768, bias=True)\n",
       "              (LayerNorm): LayerNorm((768,), eps=1e-12, elementwise_affine=True)\n",
       "              (dropout): Dropout(p=0.1, inplace=False)\n",
       "            )\n",
       "          )\n",
       "          (intermediate): BertIntermediate(\n",
       "            (dense): Linear(in_features=768, out_features=3072, bias=True)\n",
       "            (intermediate_act_fn): GELUActivation()\n",
       "          )\n",
       "          (output): BertOutput(\n",
       "            (dense): Linear(in_features=3072, out_features=768, bias=True)\n",
       "            (LayerNorm): LayerNorm((768,), eps=1e-12, elementwise_affine=True)\n",
       "            (dropout): Dropout(p=0.1, inplace=False)\n",
       "          )\n",
       "        )\n",
       "        (11): BertLayer(\n",
       "          (attention): BertAttention(\n",
       "            (self): BertSelfAttention(\n",
       "              (query): Linear(in_features=768, out_features=768, bias=True)\n",
       "              (key): Linear(in_features=768, out_features=768, bias=True)\n",
       "              (value): Linear(in_features=768, out_features=768, bias=True)\n",
       "              (dropout): Dropout(p=0.1, inplace=False)\n",
       "            )\n",
       "            (output): BertSelfOutput(\n",
       "              (dense): Linear(in_features=768, out_features=768, bias=True)\n",
       "              (LayerNorm): LayerNorm((768,), eps=1e-12, elementwise_affine=True)\n",
       "              (dropout): Dropout(p=0.1, inplace=False)\n",
       "            )\n",
       "          )\n",
       "          (intermediate): BertIntermediate(\n",
       "            (dense): Linear(in_features=768, out_features=3072, bias=True)\n",
       "            (intermediate_act_fn): GELUActivation()\n",
       "          )\n",
       "          (output): BertOutput(\n",
       "            (dense): Linear(in_features=3072, out_features=768, bias=True)\n",
       "            (LayerNorm): LayerNorm((768,), eps=1e-12, elementwise_affine=True)\n",
       "            (dropout): Dropout(p=0.1, inplace=False)\n",
       "          )\n",
       "        )\n",
       "      )\n",
       "    )\n",
       "    (pooler): BertPooler(\n",
       "      (dense): Linear(in_features=768, out_features=768, bias=True)\n",
       "      (activation): Tanh()\n",
       "    )\n",
       "  )\n",
       "  (dropout): Dropout(p=0.1, inplace=False)\n",
       "  (classifier): Linear(in_features=768, out_features=77, bias=True)\n",
       ")"
      ]
     },
     "execution_count": 10,
     "metadata": {},
     "output_type": "execute_result"
    }
   ],
   "source": [
    "model "
   ]
  },
  {
   "cell_type": "code",
   "execution_count": 11,
   "metadata": {},
   "outputs": [],
   "source": [
    "N_HIDDEN_LAYERS = 13"
   ]
  },
  {
   "attachments": {},
   "cell_type": "markdown",
   "metadata": {},
   "source": [
    "## Load datasets\n",
    "\n",
    "Inspired by this [article](https://arxiv.org/abs/2104.08812), an instance $(\\mathrm{x}, y)$ to be OOD if $y \\notin \\mathcal{Y}_{\\text{train}}$. In this context, all instances in the training and test sets derived from `banking77` are labelled `OOD=0`. In the opposite, the instances in `ATIS` and `Bitext` are labelled `OOD=1`.\n",
    "\n",
    "Then, different OOD scoring functions $f(\\mathrm{x}): \\mathcal{X} \\to \\mathbb{R}$ are applied to all the instances. The functions are supposed to return a low (high) score for an instance such that $y\\in\\mathcal{Y}_{\\text{train}}$ ($y\\notin\\mathcal{Y}_{\\text{train}}$)."
   ]
  },
  {
   "attachments": {},
   "cell_type": "markdown",
   "metadata": {},
   "source": [
    "### Load IN-DS dataset"
   ]
  },
  {
   "cell_type": "code",
   "execution_count": 12,
   "metadata": {},
   "outputs": [],
   "source": [
    "config_args_in = {\n",
    "    \"tokenizer\": tokenizer, \n",
    "    \"train_size\": 100, \n",
    "    \"validation_size\": 0, \n",
    "    \"test_size\": 100, \n",
    "    \"ood_label\": 0\n",
    "}"
   ]
  },
  {
   "cell_type": "code",
   "execution_count": 13,
   "metadata": {},
   "outputs": [
    {
     "name": "stderr",
     "output_type": "stream",
     "text": [
      "Found cached dataset banking77 (C:/Users/pemma/.cache/huggingface/datasets/banking77/default/1.1.0/ff44c4421d7e70aa810b0fa79d36908a38b87aff8125d002cd44f7fcd31f493c)\n",
      "100%|██████████| 2/2 [00:00<00:00, 17.21it/s]\n",
      "Loading cached processed dataset at C:\\Users\\pemma\\.cache\\huggingface\\datasets\\banking77\\default\\1.1.0\\ff44c4421d7e70aa810b0fa79d36908a38b87aff8125d002cd44f7fcd31f493c\\cache-789d791b63800d76.arrow\n",
      "Loading cached processed dataset at C:\\Users\\pemma\\.cache\\huggingface\\datasets\\banking77\\default\\1.1.0\\ff44c4421d7e70aa810b0fa79d36908a38b87aff8125d002cd44f7fcd31f493c\\cache-f2f24408eb806cc9.arrow\n"
     ]
    }
   ],
   "source": [
    "train_loader_b77, _, test_loader_b77 = load_requested_dataset(config_name=\"b77\", **config_args_in)"
   ]
  },
  {
   "cell_type": "code",
   "execution_count": 20,
   "metadata": {},
   "outputs": [
    {
     "data": {
      "text/plain": [
       "{'text': ['I am still waiting on my card?',\n",
       "  \"What can I do if my card still hasn't arrived after 2 weeks?\",\n",
       "  'I have been waiting over a week. Is the card still coming?',\n",
       "  'Can I track my card while it is in the process of delivery?',\n",
       "  'How do I know if I will get my card, or if it is lost?',\n",
       "  'When did you send me my new card?',\n",
       "  'Do you have info about the card on delivery?',\n",
       "  'What do I do if I still have not received my new card?',\n",
       "  'Does the package with my card have tracking?',\n",
       "  \"I ordered my card but it still isn't here\",\n",
       "  'Why has my new card still not come?',\n",
       "  \"I still haven't received my card after two weeks, is it lost?\",\n",
       "  'Can you track my card for me?',\n",
       "  'Is there a way to track the delivery of my card?',\n",
       "  \"It's been a week since I ordered my card and it's not here. Please help?\",\n",
       "  'Will I be able to track the card that was sent to me?'],\n",
       " 'labels': tensor([12, 12, 12, 12, 12, 12, 12, 12, 12, 12, 12, 12, 12, 12, 12, 12]),\n",
       " 'ood': tensor([0, 0, 0, 0, 0, 0, 0, 0, 0, 0, 0, 0, 0, 0, 0, 0])}"
      ]
     },
     "execution_count": 20,
     "metadata": {},
     "output_type": "execute_result"
    }
   ],
   "source": [
    "for batch in train_loader_b77: \n",
    "    break \n",
    "\n",
    "batch"
   ]
  },
  {
   "cell_type": "code",
   "execution_count": 18,
   "metadata": {},
   "outputs": [],
   "source": [
    "assert sum(batch[\"labels\"].shape[0] for batch in train_loader_b77) == config_args_in[\"train_size\"]\n",
    "assert sum(batch[\"labels\"].shape[0] for batch in test_loader_b77) == config_args_in[\"test_size\"]"
   ]
  },
  {
   "attachments": {},
   "cell_type": "markdown",
   "metadata": {},
   "source": [
    "### Load OUT-DS dataset"
   ]
  },
  {
   "cell_type": "code",
   "execution_count": 16,
   "metadata": {},
   "outputs": [],
   "source": [
    "config_args_out = {\n",
    "    \"tokenizer\": tokenizer, \n",
    "    \"train_size\": 0, \n",
    "    \"validation_size\": 0, \n",
    "    \"test_size\": 100, \n",
    "    \"ood_label\": 1\n",
    "}"
   ]
  },
  {
   "cell_type": "code",
   "execution_count": 17,
   "metadata": {},
   "outputs": [],
   "source": [
    "_, _, test_loader_atis = load_requested_dataset(config_name=\"atis\", **config_args_out)\n",
    "_, _, test_loader_bitext = load_requested_dataset(config_name=\"bitext\", **config_args_out)"
   ]
  },
  {
   "cell_type": "code",
   "execution_count": 18,
   "metadata": {},
   "outputs": [
    {
     "data": {
      "text/plain": [
       "{'text': ['i want to fly from boston at 838 am and arrive in denver at 1110 in the morning',\n",
       "  'what flights are available from pittsburgh to baltimore on thursday morning',\n",
       "  'what is the arrival time in san francisco for the 755 am flight leaving washington',\n",
       "  'cheapest airfare from tacoma to orlando',\n",
       "  'round trip fares from pittsburgh to philadelphia under 1000 dollars',\n",
       "  'i need a flight tomorrow from columbus to minneapolis',\n",
       "  'what kind of aircraft is used on a flight from cleveland to dallas',\n",
       "  'show me the flights from pittsburgh to los angeles on thursday',\n",
       "  'all flights from boston to washington',\n",
       "  'what kind of ground transportation is available in denver',\n",
       "  'show me the flights from dallas to san francisco',\n",
       "  'show me the flights from san diego to newark by way of houston',\n",
       "  \"what's the airport at orlando\",\n",
       "  'what is the cheapest flight from boston to bwi',\n",
       "  'all flights to baltimore after 6 pm',\n",
       "  'show me the first class fares from boston to denver'],\n",
       " 'labels': ['atis_flight',\n",
       "  'atis_flight',\n",
       "  'atis_flight_time',\n",
       "  'atis_airfare',\n",
       "  'atis_airfare',\n",
       "  'atis_flight',\n",
       "  'atis_aircraft',\n",
       "  'atis_flight',\n",
       "  'atis_flight',\n",
       "  'atis_ground_service',\n",
       "  'atis_flight',\n",
       "  'atis_flight',\n",
       "  'atis_airport',\n",
       "  'atis_flight',\n",
       "  'atis_flight',\n",
       "  'atis_airfare'],\n",
       " 'ood': tensor([1, 1, 1, 1, 1, 1, 1, 1, 1, 1, 1, 1, 1, 1, 1, 1])}"
      ]
     },
     "execution_count": 18,
     "metadata": {},
     "output_type": "execute_result"
    }
   ],
   "source": [
    "for batch in test_loader_atis: \n",
    "    break\n",
    "\n",
    "batch"
   ]
  },
  {
   "cell_type": "code",
   "execution_count": 19,
   "metadata": {},
   "outputs": [
    {
     "data": {
      "text/plain": [
       "{'text': ['how can I cancel purchase 113542617735902?',\n",
       "  'can you help me canceling purchase 00004587345?',\n",
       "  'i want assistance to cancel purchase 732201349959',\n",
       "  'i want assistance to cancel order 732201349959',\n",
       "  \"I don't want my last item, help me cancel order 370795561790\",\n",
       "  'I can no longer pay for purchase 00004587345',\n",
       "  'I need assistance cancelling purchase 732201349959',\n",
       "  'is it possible to cancel order 113542617735902?',\n",
       "  'assistance cancelling purchase 00123842',\n",
       "  'i can no longer pay for purchase 113542617735902',\n",
       "  'how tocancel purchase 00004587345',\n",
       "  'i need assistance cancelling order 00123842',\n",
       "  'problems with cancelling purchase 00123842',\n",
       "  'need to cancel order 00004587345',\n",
       "  'I have got to cancel purchase 732201349959',\n",
       "  \"I can't afford this order, cancel purchase 732201349959\"],\n",
       " 'labels': ['cancel_order',\n",
       "  'cancel_order',\n",
       "  'cancel_order',\n",
       "  'cancel_order',\n",
       "  'cancel_order',\n",
       "  'cancel_order',\n",
       "  'cancel_order',\n",
       "  'cancel_order',\n",
       "  'cancel_order',\n",
       "  'cancel_order',\n",
       "  'cancel_order',\n",
       "  'cancel_order',\n",
       "  'cancel_order',\n",
       "  'cancel_order',\n",
       "  'cancel_order',\n",
       "  'cancel_order'],\n",
       " 'ood': tensor([1, 1, 1, 1, 1, 1, 1, 1, 1, 1, 1, 1, 1, 1, 1, 1])}"
      ]
     },
     "execution_count": 19,
     "metadata": {},
     "output_type": "execute_result"
    }
   ],
   "source": [
    "for batch in test_loader_bitext: \n",
    "    break\n",
    "\n",
    "batch"
   ]
  },
  {
   "attachments": {},
   "cell_type": "markdown",
   "metadata": {},
   "source": [
    "## Forward pass check\n",
    "\n",
    "Evaluate model on one batch."
   ]
  },
  {
   "cell_type": "code",
   "execution_count": 19,
   "metadata": {},
   "outputs": [],
   "source": [
    "for batch in train_loader_b77: \n",
    "    break "
   ]
  },
  {
   "cell_type": "code",
   "execution_count": 20,
   "metadata": {},
   "outputs": [
    {
     "data": {
      "text/plain": [
       "{'text': ['I am still waiting on my card?',\n",
       "  \"What can I do if my card still hasn't arrived after 2 weeks?\",\n",
       "  'I have been waiting over a week. Is the card still coming?',\n",
       "  'Can I track my card while it is in the process of delivery?',\n",
       "  'How do I know if I will get my card, or if it is lost?',\n",
       "  'When did you send me my new card?',\n",
       "  'Do you have info about the card on delivery?',\n",
       "  'What do I do if I still have not received my new card?',\n",
       "  'Does the package with my card have tracking?',\n",
       "  \"I ordered my card but it still isn't here\",\n",
       "  'Why has my new card still not come?',\n",
       "  \"I still haven't received my card after two weeks, is it lost?\",\n",
       "  'Can you track my card for me?',\n",
       "  'Is there a way to track the delivery of my card?',\n",
       "  \"It's been a week since I ordered my card and it's not here. Please help?\",\n",
       "  'Will I be able to track the card that was sent to me?'],\n",
       " 'labels': tensor([12, 12, 12, 12, 12, 12, 12, 12, 12, 12, 12, 12, 12, 12, 12, 12])}"
      ]
     },
     "execution_count": 20,
     "metadata": {},
     "output_type": "execute_result"
    }
   ],
   "source": [
    "batch"
   ]
  },
  {
   "cell_type": "code",
   "execution_count": 21,
   "metadata": {},
   "outputs": [
    {
     "data": {
      "text/plain": [
       "{'input_ids': tensor([[  101,  1045,  2572,  2145,  3403,  2006,  2026,  4003,  1029,   102,\n",
       "             0,     0,     0,     0,     0,     0,     0,     0,     0,     0,\n",
       "             0,     0,     0],\n",
       "        [  101,  2054,  2064,  1045,  2079,  2065,  2026,  4003,  2145,  8440,\n",
       "          1005,  1056,  3369,  2044,  1016,  3134,  1029,   102,     0,     0,\n",
       "             0,     0,     0],\n",
       "        [  101,  1045,  2031,  2042,  3403,  2058,  1037,  2733,  1012,  2003,\n",
       "          1996,  4003,  2145,  2746,  1029,   102,     0,     0,     0,     0,\n",
       "             0,     0,     0],\n",
       "        [  101,  2064,  1045,  2650,  2026,  4003,  2096,  2009,  2003,  1999,\n",
       "          1996,  2832,  1997,  6959,  1029,   102,     0,     0,     0,     0,\n",
       "             0,     0,     0],\n",
       "        [  101,  2129,  2079,  1045,  2113,  2065,  1045,  2097,  2131,  2026,\n",
       "          4003,  1010,  2030,  2065,  2009,  2003,  2439,  1029,   102,     0,\n",
       "             0,     0,     0],\n",
       "        [  101,  2043,  2106,  2017,  4604,  2033,  2026,  2047,  4003,  1029,\n",
       "           102,     0,     0,     0,     0,     0,     0,     0,     0,     0,\n",
       "             0,     0,     0],\n",
       "        [  101,  2079,  2017,  2031, 18558,  2055,  1996,  4003,  2006,  6959,\n",
       "          1029,   102,     0,     0,     0,     0,     0,     0,     0,     0,\n",
       "             0,     0,     0],\n",
       "        [  101,  2054,  2079,  1045,  2079,  2065,  1045,  2145,  2031,  2025,\n",
       "          2363,  2026,  2047,  4003,  1029,   102,     0,     0,     0,     0,\n",
       "             0,     0,     0],\n",
       "        [  101,  2515,  1996,  7427,  2007,  2026,  4003,  2031,  9651,  1029,\n",
       "           102,     0,     0,     0,     0,     0,     0,     0,     0,     0,\n",
       "             0,     0,     0],\n",
       "        [  101,  1045,  3641,  2026,  4003,  2021,  2009,  2145,  3475,  1005,\n",
       "          1056,  2182,   102,     0,     0,     0,     0,     0,     0,     0,\n",
       "             0,     0,     0],\n",
       "        [  101,  2339,  2038,  2026,  2047,  4003,  2145,  2025,  2272,  1029,\n",
       "           102,     0,     0,     0,     0,     0,     0,     0,     0,     0,\n",
       "             0,     0,     0],\n",
       "        [  101,  1045,  2145,  4033,  1005,  1056,  2363,  2026,  4003,  2044,\n",
       "          2048,  3134,  1010,  2003,  2009,  2439,  1029,   102,     0,     0,\n",
       "             0,     0,     0],\n",
       "        [  101,  2064,  2017,  2650,  2026,  4003,  2005,  2033,  1029,   102,\n",
       "             0,     0,     0,     0,     0,     0,     0,     0,     0,     0,\n",
       "             0,     0,     0],\n",
       "        [  101,  2003,  2045,  1037,  2126,  2000,  2650,  1996,  6959,  1997,\n",
       "          2026,  4003,  1029,   102,     0,     0,     0,     0,     0,     0,\n",
       "             0,     0,     0],\n",
       "        [  101,  2009,  1005,  1055,  2042,  1037,  2733,  2144,  1045,  3641,\n",
       "          2026,  4003,  1998,  2009,  1005,  1055,  2025,  2182,  1012,  3531,\n",
       "          2393,  1029,   102],\n",
       "        [  101,  2097,  1045,  2022,  2583,  2000,  2650,  1996,  4003,  2008,\n",
       "          2001,  2741,  2000,  2033,  1029,   102,     0,     0,     0,     0,\n",
       "             0,     0,     0]]), 'token_type_ids': tensor([[0, 0, 0, 0, 0, 0, 0, 0, 0, 0, 0, 0, 0, 0, 0, 0, 0, 0, 0, 0, 0, 0, 0],\n",
       "        [0, 0, 0, 0, 0, 0, 0, 0, 0, 0, 0, 0, 0, 0, 0, 0, 0, 0, 0, 0, 0, 0, 0],\n",
       "        [0, 0, 0, 0, 0, 0, 0, 0, 0, 0, 0, 0, 0, 0, 0, 0, 0, 0, 0, 0, 0, 0, 0],\n",
       "        [0, 0, 0, 0, 0, 0, 0, 0, 0, 0, 0, 0, 0, 0, 0, 0, 0, 0, 0, 0, 0, 0, 0],\n",
       "        [0, 0, 0, 0, 0, 0, 0, 0, 0, 0, 0, 0, 0, 0, 0, 0, 0, 0, 0, 0, 0, 0, 0],\n",
       "        [0, 0, 0, 0, 0, 0, 0, 0, 0, 0, 0, 0, 0, 0, 0, 0, 0, 0, 0, 0, 0, 0, 0],\n",
       "        [0, 0, 0, 0, 0, 0, 0, 0, 0, 0, 0, 0, 0, 0, 0, 0, 0, 0, 0, 0, 0, 0, 0],\n",
       "        [0, 0, 0, 0, 0, 0, 0, 0, 0, 0, 0, 0, 0, 0, 0, 0, 0, 0, 0, 0, 0, 0, 0],\n",
       "        [0, 0, 0, 0, 0, 0, 0, 0, 0, 0, 0, 0, 0, 0, 0, 0, 0, 0, 0, 0, 0, 0, 0],\n",
       "        [0, 0, 0, 0, 0, 0, 0, 0, 0, 0, 0, 0, 0, 0, 0, 0, 0, 0, 0, 0, 0, 0, 0],\n",
       "        [0, 0, 0, 0, 0, 0, 0, 0, 0, 0, 0, 0, 0, 0, 0, 0, 0, 0, 0, 0, 0, 0, 0],\n",
       "        [0, 0, 0, 0, 0, 0, 0, 0, 0, 0, 0, 0, 0, 0, 0, 0, 0, 0, 0, 0, 0, 0, 0],\n",
       "        [0, 0, 0, 0, 0, 0, 0, 0, 0, 0, 0, 0, 0, 0, 0, 0, 0, 0, 0, 0, 0, 0, 0],\n",
       "        [0, 0, 0, 0, 0, 0, 0, 0, 0, 0, 0, 0, 0, 0, 0, 0, 0, 0, 0, 0, 0, 0, 0],\n",
       "        [0, 0, 0, 0, 0, 0, 0, 0, 0, 0, 0, 0, 0, 0, 0, 0, 0, 0, 0, 0, 0, 0, 0],\n",
       "        [0, 0, 0, 0, 0, 0, 0, 0, 0, 0, 0, 0, 0, 0, 0, 0, 0, 0, 0, 0, 0, 0, 0]]), 'attention_mask': tensor([[1, 1, 1, 1, 1, 1, 1, 1, 1, 1, 0, 0, 0, 0, 0, 0, 0, 0, 0, 0, 0, 0, 0],\n",
       "        [1, 1, 1, 1, 1, 1, 1, 1, 1, 1, 1, 1, 1, 1, 1, 1, 1, 1, 0, 0, 0, 0, 0],\n",
       "        [1, 1, 1, 1, 1, 1, 1, 1, 1, 1, 1, 1, 1, 1, 1, 1, 0, 0, 0, 0, 0, 0, 0],\n",
       "        [1, 1, 1, 1, 1, 1, 1, 1, 1, 1, 1, 1, 1, 1, 1, 1, 0, 0, 0, 0, 0, 0, 0],\n",
       "        [1, 1, 1, 1, 1, 1, 1, 1, 1, 1, 1, 1, 1, 1, 1, 1, 1, 1, 1, 0, 0, 0, 0],\n",
       "        [1, 1, 1, 1, 1, 1, 1, 1, 1, 1, 1, 0, 0, 0, 0, 0, 0, 0, 0, 0, 0, 0, 0],\n",
       "        [1, 1, 1, 1, 1, 1, 1, 1, 1, 1, 1, 1, 0, 0, 0, 0, 0, 0, 0, 0, 0, 0, 0],\n",
       "        [1, 1, 1, 1, 1, 1, 1, 1, 1, 1, 1, 1, 1, 1, 1, 1, 0, 0, 0, 0, 0, 0, 0],\n",
       "        [1, 1, 1, 1, 1, 1, 1, 1, 1, 1, 1, 0, 0, 0, 0, 0, 0, 0, 0, 0, 0, 0, 0],\n",
       "        [1, 1, 1, 1, 1, 1, 1, 1, 1, 1, 1, 1, 1, 0, 0, 0, 0, 0, 0, 0, 0, 0, 0],\n",
       "        [1, 1, 1, 1, 1, 1, 1, 1, 1, 1, 1, 0, 0, 0, 0, 0, 0, 0, 0, 0, 0, 0, 0],\n",
       "        [1, 1, 1, 1, 1, 1, 1, 1, 1, 1, 1, 1, 1, 1, 1, 1, 1, 1, 0, 0, 0, 0, 0],\n",
       "        [1, 1, 1, 1, 1, 1, 1, 1, 1, 1, 0, 0, 0, 0, 0, 0, 0, 0, 0, 0, 0, 0, 0],\n",
       "        [1, 1, 1, 1, 1, 1, 1, 1, 1, 1, 1, 1, 1, 1, 0, 0, 0, 0, 0, 0, 0, 0, 0],\n",
       "        [1, 1, 1, 1, 1, 1, 1, 1, 1, 1, 1, 1, 1, 1, 1, 1, 1, 1, 1, 1, 1, 1, 1],\n",
       "        [1, 1, 1, 1, 1, 1, 1, 1, 1, 1, 1, 1, 1, 1, 1, 1, 0, 0, 0, 0, 0, 0, 0]])}"
      ]
     },
     "execution_count": 21,
     "metadata": {},
     "output_type": "execute_result"
    }
   ],
   "source": [
    "inputs = tokenizer(batch[\"text\"], padding=True, truncation=True, return_tensors=\"pt\")\n",
    "inputs"
   ]
  },
  {
   "cell_type": "code",
   "execution_count": 22,
   "metadata": {},
   "outputs": [
    {
     "data": {
      "text/plain": [
       "device(type='cpu')"
      ]
     },
     "execution_count": 22,
     "metadata": {},
     "output_type": "execute_result"
    }
   ],
   "source": [
    "inputs = {k: v.to(model.device) for k, v in inputs.items()}\n",
    "inputs[\"input_ids\"].device"
   ]
  },
  {
   "cell_type": "code",
   "execution_count": 23,
   "metadata": {},
   "outputs": [],
   "source": [
    "output = model(\n",
    "    inputs[\"input_ids\"], \n",
    "    attention_mask=inputs[\"attention_mask\"], \n",
    "    output_hidden_states=True\n",
    ")"
   ]
  },
  {
   "cell_type": "code",
   "execution_count": 24,
   "metadata": {},
   "outputs": [
    {
     "data": {
      "text/plain": [
       "odict_keys(['logits', 'hidden_states'])"
      ]
     },
     "execution_count": 24,
     "metadata": {},
     "output_type": "execute_result"
    }
   ],
   "source": [
    "output.keys()"
   ]
  },
  {
   "cell_type": "code",
   "execution_count": 52,
   "metadata": {},
   "outputs": [
    {
     "data": {
      "text/plain": [
       "tensor([12, 12, 12, 12, 12, 12, 12, 12, 12, 12, 12, 12, 12, 12, 12, 12])"
      ]
     },
     "execution_count": 52,
     "metadata": {},
     "output_type": "execute_result"
    }
   ],
   "source": [
    "output.logits.argmax(dim=-1)"
   ]
  },
  {
   "cell_type": "code",
   "execution_count": 26,
   "metadata": {},
   "outputs": [
    {
     "data": {
      "text/html": [
       "<pre style=\"white-space:pre;overflow-x:auto;line-height:normal;font-family:Menlo,'DejaVu Sans Mono',consolas,'Courier New',monospace\">Layer #<span style=\"color: #008080; text-decoration-color: #008080; font-weight: bold\">0</span>: <span style=\"font-weight: bold\">(</span><span style=\"color: #808000; text-decoration-color: #808000\">n_samples</span>=<span style=\"color: #008080; text-decoration-color: #008080; font-weight: bold\">16</span>, <span style=\"color: #808000; text-decoration-color: #808000\">seq_len</span>=<span style=\"color: #008080; text-decoration-color: #008080; font-weight: bold\">23</span>, <span style=\"color: #808000; text-decoration-color: #808000\">embed_size</span>=<span style=\"color: #008080; text-decoration-color: #008080; font-weight: bold\">768</span><span style=\"font-weight: bold\">)</span>\n",
       "</pre>\n"
      ],
      "text/plain": [
       "Layer #\u001b[1;36m0\u001b[0m: \u001b[1m(\u001b[0m\u001b[33mn_samples\u001b[0m=\u001b[1;36m16\u001b[0m, \u001b[33mseq_len\u001b[0m=\u001b[1;36m23\u001b[0m, \u001b[33membed_size\u001b[0m=\u001b[1;36m768\u001b[0m\u001b[1m)\u001b[0m\n"
      ]
     },
     "metadata": {},
     "output_type": "display_data"
    },
    {
     "data": {
      "text/html": [
       "<pre style=\"white-space:pre;overflow-x:auto;line-height:normal;font-family:Menlo,'DejaVu Sans Mono',consolas,'Courier New',monospace\">Layer #<span style=\"color: #008080; text-decoration-color: #008080; font-weight: bold\">1</span>: <span style=\"font-weight: bold\">(</span><span style=\"color: #808000; text-decoration-color: #808000\">n_samples</span>=<span style=\"color: #008080; text-decoration-color: #008080; font-weight: bold\">16</span>, <span style=\"color: #808000; text-decoration-color: #808000\">seq_len</span>=<span style=\"color: #008080; text-decoration-color: #008080; font-weight: bold\">23</span>, <span style=\"color: #808000; text-decoration-color: #808000\">embed_size</span>=<span style=\"color: #008080; text-decoration-color: #008080; font-weight: bold\">768</span><span style=\"font-weight: bold\">)</span>\n",
       "</pre>\n"
      ],
      "text/plain": [
       "Layer #\u001b[1;36m1\u001b[0m: \u001b[1m(\u001b[0m\u001b[33mn_samples\u001b[0m=\u001b[1;36m16\u001b[0m, \u001b[33mseq_len\u001b[0m=\u001b[1;36m23\u001b[0m, \u001b[33membed_size\u001b[0m=\u001b[1;36m768\u001b[0m\u001b[1m)\u001b[0m\n"
      ]
     },
     "metadata": {},
     "output_type": "display_data"
    },
    {
     "data": {
      "text/html": [
       "<pre style=\"white-space:pre;overflow-x:auto;line-height:normal;font-family:Menlo,'DejaVu Sans Mono',consolas,'Courier New',monospace\">Layer #<span style=\"color: #008080; text-decoration-color: #008080; font-weight: bold\">2</span>: <span style=\"font-weight: bold\">(</span><span style=\"color: #808000; text-decoration-color: #808000\">n_samples</span>=<span style=\"color: #008080; text-decoration-color: #008080; font-weight: bold\">16</span>, <span style=\"color: #808000; text-decoration-color: #808000\">seq_len</span>=<span style=\"color: #008080; text-decoration-color: #008080; font-weight: bold\">23</span>, <span style=\"color: #808000; text-decoration-color: #808000\">embed_size</span>=<span style=\"color: #008080; text-decoration-color: #008080; font-weight: bold\">768</span><span style=\"font-weight: bold\">)</span>\n",
       "</pre>\n"
      ],
      "text/plain": [
       "Layer #\u001b[1;36m2\u001b[0m: \u001b[1m(\u001b[0m\u001b[33mn_samples\u001b[0m=\u001b[1;36m16\u001b[0m, \u001b[33mseq_len\u001b[0m=\u001b[1;36m23\u001b[0m, \u001b[33membed_size\u001b[0m=\u001b[1;36m768\u001b[0m\u001b[1m)\u001b[0m\n"
      ]
     },
     "metadata": {},
     "output_type": "display_data"
    },
    {
     "data": {
      "text/html": [
       "<pre style=\"white-space:pre;overflow-x:auto;line-height:normal;font-family:Menlo,'DejaVu Sans Mono',consolas,'Courier New',monospace\">Layer #<span style=\"color: #008080; text-decoration-color: #008080; font-weight: bold\">3</span>: <span style=\"font-weight: bold\">(</span><span style=\"color: #808000; text-decoration-color: #808000\">n_samples</span>=<span style=\"color: #008080; text-decoration-color: #008080; font-weight: bold\">16</span>, <span style=\"color: #808000; text-decoration-color: #808000\">seq_len</span>=<span style=\"color: #008080; text-decoration-color: #008080; font-weight: bold\">23</span>, <span style=\"color: #808000; text-decoration-color: #808000\">embed_size</span>=<span style=\"color: #008080; text-decoration-color: #008080; font-weight: bold\">768</span><span style=\"font-weight: bold\">)</span>\n",
       "</pre>\n"
      ],
      "text/plain": [
       "Layer #\u001b[1;36m3\u001b[0m: \u001b[1m(\u001b[0m\u001b[33mn_samples\u001b[0m=\u001b[1;36m16\u001b[0m, \u001b[33mseq_len\u001b[0m=\u001b[1;36m23\u001b[0m, \u001b[33membed_size\u001b[0m=\u001b[1;36m768\u001b[0m\u001b[1m)\u001b[0m\n"
      ]
     },
     "metadata": {},
     "output_type": "display_data"
    },
    {
     "data": {
      "text/html": [
       "<pre style=\"white-space:pre;overflow-x:auto;line-height:normal;font-family:Menlo,'DejaVu Sans Mono',consolas,'Courier New',monospace\">Layer #<span style=\"color: #008080; text-decoration-color: #008080; font-weight: bold\">4</span>: <span style=\"font-weight: bold\">(</span><span style=\"color: #808000; text-decoration-color: #808000\">n_samples</span>=<span style=\"color: #008080; text-decoration-color: #008080; font-weight: bold\">16</span>, <span style=\"color: #808000; text-decoration-color: #808000\">seq_len</span>=<span style=\"color: #008080; text-decoration-color: #008080; font-weight: bold\">23</span>, <span style=\"color: #808000; text-decoration-color: #808000\">embed_size</span>=<span style=\"color: #008080; text-decoration-color: #008080; font-weight: bold\">768</span><span style=\"font-weight: bold\">)</span>\n",
       "</pre>\n"
      ],
      "text/plain": [
       "Layer #\u001b[1;36m4\u001b[0m: \u001b[1m(\u001b[0m\u001b[33mn_samples\u001b[0m=\u001b[1;36m16\u001b[0m, \u001b[33mseq_len\u001b[0m=\u001b[1;36m23\u001b[0m, \u001b[33membed_size\u001b[0m=\u001b[1;36m768\u001b[0m\u001b[1m)\u001b[0m\n"
      ]
     },
     "metadata": {},
     "output_type": "display_data"
    },
    {
     "data": {
      "text/html": [
       "<pre style=\"white-space:pre;overflow-x:auto;line-height:normal;font-family:Menlo,'DejaVu Sans Mono',consolas,'Courier New',monospace\">Layer #<span style=\"color: #008080; text-decoration-color: #008080; font-weight: bold\">5</span>: <span style=\"font-weight: bold\">(</span><span style=\"color: #808000; text-decoration-color: #808000\">n_samples</span>=<span style=\"color: #008080; text-decoration-color: #008080; font-weight: bold\">16</span>, <span style=\"color: #808000; text-decoration-color: #808000\">seq_len</span>=<span style=\"color: #008080; text-decoration-color: #008080; font-weight: bold\">23</span>, <span style=\"color: #808000; text-decoration-color: #808000\">embed_size</span>=<span style=\"color: #008080; text-decoration-color: #008080; font-weight: bold\">768</span><span style=\"font-weight: bold\">)</span>\n",
       "</pre>\n"
      ],
      "text/plain": [
       "Layer #\u001b[1;36m5\u001b[0m: \u001b[1m(\u001b[0m\u001b[33mn_samples\u001b[0m=\u001b[1;36m16\u001b[0m, \u001b[33mseq_len\u001b[0m=\u001b[1;36m23\u001b[0m, \u001b[33membed_size\u001b[0m=\u001b[1;36m768\u001b[0m\u001b[1m)\u001b[0m\n"
      ]
     },
     "metadata": {},
     "output_type": "display_data"
    },
    {
     "data": {
      "text/html": [
       "<pre style=\"white-space:pre;overflow-x:auto;line-height:normal;font-family:Menlo,'DejaVu Sans Mono',consolas,'Courier New',monospace\">Layer #<span style=\"color: #008080; text-decoration-color: #008080; font-weight: bold\">6</span>: <span style=\"font-weight: bold\">(</span><span style=\"color: #808000; text-decoration-color: #808000\">n_samples</span>=<span style=\"color: #008080; text-decoration-color: #008080; font-weight: bold\">16</span>, <span style=\"color: #808000; text-decoration-color: #808000\">seq_len</span>=<span style=\"color: #008080; text-decoration-color: #008080; font-weight: bold\">23</span>, <span style=\"color: #808000; text-decoration-color: #808000\">embed_size</span>=<span style=\"color: #008080; text-decoration-color: #008080; font-weight: bold\">768</span><span style=\"font-weight: bold\">)</span>\n",
       "</pre>\n"
      ],
      "text/plain": [
       "Layer #\u001b[1;36m6\u001b[0m: \u001b[1m(\u001b[0m\u001b[33mn_samples\u001b[0m=\u001b[1;36m16\u001b[0m, \u001b[33mseq_len\u001b[0m=\u001b[1;36m23\u001b[0m, \u001b[33membed_size\u001b[0m=\u001b[1;36m768\u001b[0m\u001b[1m)\u001b[0m\n"
      ]
     },
     "metadata": {},
     "output_type": "display_data"
    },
    {
     "data": {
      "text/html": [
       "<pre style=\"white-space:pre;overflow-x:auto;line-height:normal;font-family:Menlo,'DejaVu Sans Mono',consolas,'Courier New',monospace\">Layer #<span style=\"color: #008080; text-decoration-color: #008080; font-weight: bold\">7</span>: <span style=\"font-weight: bold\">(</span><span style=\"color: #808000; text-decoration-color: #808000\">n_samples</span>=<span style=\"color: #008080; text-decoration-color: #008080; font-weight: bold\">16</span>, <span style=\"color: #808000; text-decoration-color: #808000\">seq_len</span>=<span style=\"color: #008080; text-decoration-color: #008080; font-weight: bold\">23</span>, <span style=\"color: #808000; text-decoration-color: #808000\">embed_size</span>=<span style=\"color: #008080; text-decoration-color: #008080; font-weight: bold\">768</span><span style=\"font-weight: bold\">)</span>\n",
       "</pre>\n"
      ],
      "text/plain": [
       "Layer #\u001b[1;36m7\u001b[0m: \u001b[1m(\u001b[0m\u001b[33mn_samples\u001b[0m=\u001b[1;36m16\u001b[0m, \u001b[33mseq_len\u001b[0m=\u001b[1;36m23\u001b[0m, \u001b[33membed_size\u001b[0m=\u001b[1;36m768\u001b[0m\u001b[1m)\u001b[0m\n"
      ]
     },
     "metadata": {},
     "output_type": "display_data"
    },
    {
     "data": {
      "text/html": [
       "<pre style=\"white-space:pre;overflow-x:auto;line-height:normal;font-family:Menlo,'DejaVu Sans Mono',consolas,'Courier New',monospace\">Layer #<span style=\"color: #008080; text-decoration-color: #008080; font-weight: bold\">8</span>: <span style=\"font-weight: bold\">(</span><span style=\"color: #808000; text-decoration-color: #808000\">n_samples</span>=<span style=\"color: #008080; text-decoration-color: #008080; font-weight: bold\">16</span>, <span style=\"color: #808000; text-decoration-color: #808000\">seq_len</span>=<span style=\"color: #008080; text-decoration-color: #008080; font-weight: bold\">23</span>, <span style=\"color: #808000; text-decoration-color: #808000\">embed_size</span>=<span style=\"color: #008080; text-decoration-color: #008080; font-weight: bold\">768</span><span style=\"font-weight: bold\">)</span>\n",
       "</pre>\n"
      ],
      "text/plain": [
       "Layer #\u001b[1;36m8\u001b[0m: \u001b[1m(\u001b[0m\u001b[33mn_samples\u001b[0m=\u001b[1;36m16\u001b[0m, \u001b[33mseq_len\u001b[0m=\u001b[1;36m23\u001b[0m, \u001b[33membed_size\u001b[0m=\u001b[1;36m768\u001b[0m\u001b[1m)\u001b[0m\n"
      ]
     },
     "metadata": {},
     "output_type": "display_data"
    },
    {
     "data": {
      "text/html": [
       "<pre style=\"white-space:pre;overflow-x:auto;line-height:normal;font-family:Menlo,'DejaVu Sans Mono',consolas,'Courier New',monospace\">Layer #<span style=\"color: #008080; text-decoration-color: #008080; font-weight: bold\">9</span>: <span style=\"font-weight: bold\">(</span><span style=\"color: #808000; text-decoration-color: #808000\">n_samples</span>=<span style=\"color: #008080; text-decoration-color: #008080; font-weight: bold\">16</span>, <span style=\"color: #808000; text-decoration-color: #808000\">seq_len</span>=<span style=\"color: #008080; text-decoration-color: #008080; font-weight: bold\">23</span>, <span style=\"color: #808000; text-decoration-color: #808000\">embed_size</span>=<span style=\"color: #008080; text-decoration-color: #008080; font-weight: bold\">768</span><span style=\"font-weight: bold\">)</span>\n",
       "</pre>\n"
      ],
      "text/plain": [
       "Layer #\u001b[1;36m9\u001b[0m: \u001b[1m(\u001b[0m\u001b[33mn_samples\u001b[0m=\u001b[1;36m16\u001b[0m, \u001b[33mseq_len\u001b[0m=\u001b[1;36m23\u001b[0m, \u001b[33membed_size\u001b[0m=\u001b[1;36m768\u001b[0m\u001b[1m)\u001b[0m\n"
      ]
     },
     "metadata": {},
     "output_type": "display_data"
    },
    {
     "data": {
      "text/html": [
       "<pre style=\"white-space:pre;overflow-x:auto;line-height:normal;font-family:Menlo,'DejaVu Sans Mono',consolas,'Courier New',monospace\">Layer #<span style=\"color: #008080; text-decoration-color: #008080; font-weight: bold\">10</span>: <span style=\"font-weight: bold\">(</span><span style=\"color: #808000; text-decoration-color: #808000\">n_samples</span>=<span style=\"color: #008080; text-decoration-color: #008080; font-weight: bold\">16</span>, <span style=\"color: #808000; text-decoration-color: #808000\">seq_len</span>=<span style=\"color: #008080; text-decoration-color: #008080; font-weight: bold\">23</span>, <span style=\"color: #808000; text-decoration-color: #808000\">embed_size</span>=<span style=\"color: #008080; text-decoration-color: #008080; font-weight: bold\">768</span><span style=\"font-weight: bold\">)</span>\n",
       "</pre>\n"
      ],
      "text/plain": [
       "Layer #\u001b[1;36m10\u001b[0m: \u001b[1m(\u001b[0m\u001b[33mn_samples\u001b[0m=\u001b[1;36m16\u001b[0m, \u001b[33mseq_len\u001b[0m=\u001b[1;36m23\u001b[0m, \u001b[33membed_size\u001b[0m=\u001b[1;36m768\u001b[0m\u001b[1m)\u001b[0m\n"
      ]
     },
     "metadata": {},
     "output_type": "display_data"
    },
    {
     "data": {
      "text/html": [
       "<pre style=\"white-space:pre;overflow-x:auto;line-height:normal;font-family:Menlo,'DejaVu Sans Mono',consolas,'Courier New',monospace\">Layer #<span style=\"color: #008080; text-decoration-color: #008080; font-weight: bold\">11</span>: <span style=\"font-weight: bold\">(</span><span style=\"color: #808000; text-decoration-color: #808000\">n_samples</span>=<span style=\"color: #008080; text-decoration-color: #008080; font-weight: bold\">16</span>, <span style=\"color: #808000; text-decoration-color: #808000\">seq_len</span>=<span style=\"color: #008080; text-decoration-color: #008080; font-weight: bold\">23</span>, <span style=\"color: #808000; text-decoration-color: #808000\">embed_size</span>=<span style=\"color: #008080; text-decoration-color: #008080; font-weight: bold\">768</span><span style=\"font-weight: bold\">)</span>\n",
       "</pre>\n"
      ],
      "text/plain": [
       "Layer #\u001b[1;36m11\u001b[0m: \u001b[1m(\u001b[0m\u001b[33mn_samples\u001b[0m=\u001b[1;36m16\u001b[0m, \u001b[33mseq_len\u001b[0m=\u001b[1;36m23\u001b[0m, \u001b[33membed_size\u001b[0m=\u001b[1;36m768\u001b[0m\u001b[1m)\u001b[0m\n"
      ]
     },
     "metadata": {},
     "output_type": "display_data"
    },
    {
     "data": {
      "text/html": [
       "<pre style=\"white-space:pre;overflow-x:auto;line-height:normal;font-family:Menlo,'DejaVu Sans Mono',consolas,'Courier New',monospace\">Layer #<span style=\"color: #008080; text-decoration-color: #008080; font-weight: bold\">12</span>: <span style=\"font-weight: bold\">(</span><span style=\"color: #808000; text-decoration-color: #808000\">n_samples</span>=<span style=\"color: #008080; text-decoration-color: #008080; font-weight: bold\">16</span>, <span style=\"color: #808000; text-decoration-color: #808000\">seq_len</span>=<span style=\"color: #008080; text-decoration-color: #008080; font-weight: bold\">23</span>, <span style=\"color: #808000; text-decoration-color: #808000\">embed_size</span>=<span style=\"color: #008080; text-decoration-color: #008080; font-weight: bold\">768</span><span style=\"font-weight: bold\">)</span>\n",
       "</pre>\n"
      ],
      "text/plain": [
       "Layer #\u001b[1;36m12\u001b[0m: \u001b[1m(\u001b[0m\u001b[33mn_samples\u001b[0m=\u001b[1;36m16\u001b[0m, \u001b[33mseq_len\u001b[0m=\u001b[1;36m23\u001b[0m, \u001b[33membed_size\u001b[0m=\u001b[1;36m768\u001b[0m\u001b[1m)\u001b[0m\n"
      ]
     },
     "metadata": {},
     "output_type": "display_data"
    }
   ],
   "source": [
    "for i, h in enumerate(output.hidden_states):\n",
    "    n_samples, seq_len, embed_size = h.shape \n",
    "    print(f\"Layer #{i}: ({n_samples=}, {seq_len=}, {embed_size=})\") "
   ]
  },
  {
   "attachments": {},
   "cell_type": "markdown",
   "metadata": {},
   "source": [
    "## Detectors"
   ]
  },
  {
   "attachments": {},
   "cell_type": "markdown",
   "metadata": {},
   "source": [
    "### Mathematical formulation"
   ]
  },
  {
   "attachments": {},
   "cell_type": "markdown",
   "metadata": {},
   "source": [
    "#### Logits-based\n",
    "\n",
    "**Maximum-Softmax probability**\n",
    "\n",
    "$$\n",
    "s_{\\text{MSP}}(\\mathrm{x}) = 1 - \\max_{y \\in \\mathcal{Y}} p_{Y\\mid X}(y \\mid \\mathrm{x})\n",
    "$$\n",
    "\n",
    "where $p_{Y\\mid X}(y \\mid \\mathrm{x})$ is the soft-probability predicted by the classifier after $\\mathrm{x}$ has been observed.\n",
    "\n",
    "**Energy**\n",
    "\n",
    "$$\n",
    "s_{E}(\\mathrm{x}) = T \\times \\log \\bigg[\\sum_{y \\in \\mathcal{Y}} \\exp \\Big(\\frac{g_y(\\mathrm{x})}{T} \\Big) \\bigg]\n",
    "$$\n",
    "\n",
    "where $g_y(\\mathrm{x})$ represents the logit corresponding to the class label $y$ and $T$ is the temperature parameter."
   ]
  },
  {
   "attachments": {},
   "cell_type": "markdown",
   "metadata": {},
   "source": [
    "#### Hidden-states based\n",
    "\n",
    "**Mahalanibis distance**\n",
    "\n",
    "Given a probability distribution $P$ on $\\mathbb{R}^d$ with mean vector $\\mathrm{\\mu}$  and positive-definite covariance matrix $S$, the Mahalanobis distance of a point $\\mathrm{x} \\in \\mathbb{R}^d$ from $P$ is: \n",
    "$$\n",
    "d_M(\\mathrm{x}, P) = \\sqrt{(\\mathrm{x} - \\mathrm{\\mu})^T S^{-1} (\\mathrm{x} - \\mathrm{\\mu})}\n",
    "$$\n",
    "\n",
    "Since $S$ is positive-definite, so is $S^{-1}$, thus the square roots are always defined (strong hypothesis).\n",
    "\n",
    "**Cosine projection**\n",
    "\n",
    "Cosine similarity between $\\mathrm{x}_1$ and $\\mathrm{x}_2$ is defined as: \n",
    "\n",
    "$$\n",
    "\\text{cos}(\\mathrm{x}_1, \\mathrm{x}_2) = \\frac{\\mathrm{x}_1 \\cdot \\mathrm{x}_2}{\\max (||\\mathrm{x}_1||_2 \\cdot ||\\mathrm{x}_2||_2, \\epsilon)}\n",
    "$$\n",
    "\n",
    "The scorer function derived from cosine similarity is defined as follows: \n",
    "\n",
    "$$\n",
    "s_C = - \\max_{\\mathrm{x}_i \\in S_{n, \\hat{y}}^{\\text{train}}} \\text{cos}(\\mathrm{x}, \\mathrm{x}_i)\n",
    "$$\n",
    "\n",
    "where $(\\mathrm{x}, \\hat{y})$ is an unseen sample and $S_{n, \\hat{y}}^{\\text{train}}$ is the set of reference embeddings with $\\hat{y}$ as predicted class. "
   ]
  },
  {
   "attachments": {},
   "cell_type": "markdown",
   "metadata": {},
   "source": [
    "### Instantiate and fit"
   ]
  },
  {
   "cell_type": "code",
   "execution_count": 29,
   "metadata": {},
   "outputs": [],
   "source": [
    "layer_selection = {\"last\": [-1], \"all\": [l for l in range(N_HIDDEN_LAYERS)]}\n",
    "\n",
    "detectors: List[ScorerType] = [\n",
    "    MahalanobisScorer(layers=layer_selection[\"last\"]), \n",
    "    CosineProjectionScorer(layers=layer_selection[\"last\"]), \n",
    "    # DataDepthScorer(layers=layer_selection[\"last\"])\n",
    "]\n",
    "\n",
    "detector_names = [detector.__class__.__name__ for detector in detectors]"
   ]
  },
  {
   "cell_type": "code",
   "execution_count": 30,
   "metadata": {},
   "outputs": [
    {
     "data": {
      "text/html": [
       "<pre style=\"white-space:pre;overflow-x:auto;line-height:normal;font-family:Menlo,'DejaVu Sans Mono',consolas,'Courier New',monospace\">MahalanobisScorer\n",
       "<span style=\"font-weight: bold\">{</span>\n",
       "    <span style=\"color: #008000; text-decoration-color: #008000\">'score_names'</span>: <span style=\"font-weight: bold\">[]</span>,\n",
       "    <span style=\"color: #008000; text-decoration-color: #008000\">'chosen_state'</span>: <span style=\"color: #008000; text-decoration-color: #008000\">'encoder_hidden_states'</span>,\n",
       "    <span style=\"color: #008000; text-decoration-color: #008000\">'use_first_token_only'</span>: <span style=\"color: #00ff00; text-decoration-color: #00ff00; font-style: italic\">True</span>,\n",
       "    <span style=\"color: #008000; text-decoration-color: #008000\">'accumulated_embeddings'</span>: <span style=\"color: #800080; text-decoration-color: #800080; font-weight: bold\">defaultdict</span><span style=\"font-weight: bold\">(&lt;</span><span style=\"color: #ff00ff; text-decoration-color: #ff00ff; font-weight: bold\">class</span><span style=\"color: #000000; text-decoration-color: #000000\"> </span><span style=\"color: #008000; text-decoration-color: #008000\">'list'</span><span style=\"font-weight: bold\">&gt;</span>, <span style=\"font-weight: bold\">{})</span>,\n",
       "    <span style=\"color: #008000; text-decoration-color: #008000\">'layers'</span>: <span style=\"font-weight: bold\">{</span><span style=\"color: #008080; text-decoration-color: #008080; font-weight: bold\">-1</span><span style=\"font-weight: bold\">}</span>,\n",
       "    <span style=\"color: #008000; text-decoration-color: #008000\">'accumulation_device'</span>: <span style=\"color: #008000; text-decoration-color: #008000\">'cpu'</span>,\n",
       "    <span style=\"color: #008000; text-decoration-color: #008000\">'covs'</span>: <span style=\"color: #800080; text-decoration-color: #800080; font-style: italic\">None</span>,\n",
       "    <span style=\"color: #008000; text-decoration-color: #008000\">'means'</span>: <span style=\"color: #800080; text-decoration-color: #800080; font-style: italic\">None</span>\n",
       "<span style=\"font-weight: bold\">}</span>\n",
       "</pre>\n"
      ],
      "text/plain": [
       "MahalanobisScorer\n",
       "\u001b[1m{\u001b[0m\n",
       "    \u001b[32m'score_names'\u001b[0m: \u001b[1m[\u001b[0m\u001b[1m]\u001b[0m,\n",
       "    \u001b[32m'chosen_state'\u001b[0m: \u001b[32m'encoder_hidden_states'\u001b[0m,\n",
       "    \u001b[32m'use_first_token_only'\u001b[0m: \u001b[3;92mTrue\u001b[0m,\n",
       "    \u001b[32m'accumulated_embeddings'\u001b[0m: \u001b[1;35mdefaultdict\u001b[0m\u001b[1m(\u001b[0m\u001b[1m<\u001b[0m\u001b[1;95mclass\u001b[0m\u001b[39m \u001b[0m\u001b[32m'list'\u001b[0m\u001b[1m>\u001b[0m, \u001b[1m{\u001b[0m\u001b[1m}\u001b[0m\u001b[1m)\u001b[0m,\n",
       "    \u001b[32m'layers'\u001b[0m: \u001b[1m{\u001b[0m\u001b[1;36m-1\u001b[0m\u001b[1m}\u001b[0m,\n",
       "    \u001b[32m'accumulation_device'\u001b[0m: \u001b[32m'cpu'\u001b[0m,\n",
       "    \u001b[32m'covs'\u001b[0m: \u001b[3;35mNone\u001b[0m,\n",
       "    \u001b[32m'means'\u001b[0m: \u001b[3;35mNone\u001b[0m\n",
       "\u001b[1m}\u001b[0m\n"
      ]
     },
     "metadata": {},
     "output_type": "display_data"
    },
    {
     "data": {
      "text/html": [
       "<pre style=\"white-space:pre;overflow-x:auto;line-height:normal;font-family:Menlo,'DejaVu Sans Mono',consolas,'Courier New',monospace\">CosineProjectionScorer\n",
       "<span style=\"font-weight: bold\">{</span>\n",
       "    <span style=\"color: #008000; text-decoration-color: #008000\">'score_names'</span>: <span style=\"font-weight: bold\">[]</span>,\n",
       "    <span style=\"color: #008000; text-decoration-color: #008000\">'chosen_state'</span>: <span style=\"color: #008000; text-decoration-color: #008000\">'encoder_hidden_states'</span>,\n",
       "    <span style=\"color: #008000; text-decoration-color: #008000\">'use_first_token_only'</span>: <span style=\"color: #00ff00; text-decoration-color: #00ff00; font-style: italic\">True</span>,\n",
       "    <span style=\"color: #008000; text-decoration-color: #008000\">'accumulated_embeddings'</span>: <span style=\"color: #800080; text-decoration-color: #800080; font-weight: bold\">defaultdict</span><span style=\"font-weight: bold\">(&lt;</span><span style=\"color: #ff00ff; text-decoration-color: #ff00ff; font-weight: bold\">class</span><span style=\"color: #000000; text-decoration-color: #000000\"> </span><span style=\"color: #008000; text-decoration-color: #008000\">'list'</span><span style=\"font-weight: bold\">&gt;</span>, <span style=\"font-weight: bold\">{})</span>,\n",
       "    <span style=\"color: #008000; text-decoration-color: #008000\">'layers'</span>: <span style=\"font-weight: bold\">{</span><span style=\"color: #008080; text-decoration-color: #008080; font-weight: bold\">-1</span><span style=\"font-weight: bold\">}</span>,\n",
       "    <span style=\"color: #008000; text-decoration-color: #008000\">'accumulation_device'</span>: <span style=\"color: #008000; text-decoration-color: #008000\">'cpu'</span>,\n",
       "    <span style=\"color: #008000; text-decoration-color: #008000\">'reference_embeddings'</span>: <span style=\"font-weight: bold\">{}</span>\n",
       "<span style=\"font-weight: bold\">}</span>\n",
       "</pre>\n"
      ],
      "text/plain": [
       "CosineProjectionScorer\n",
       "\u001b[1m{\u001b[0m\n",
       "    \u001b[32m'score_names'\u001b[0m: \u001b[1m[\u001b[0m\u001b[1m]\u001b[0m,\n",
       "    \u001b[32m'chosen_state'\u001b[0m: \u001b[32m'encoder_hidden_states'\u001b[0m,\n",
       "    \u001b[32m'use_first_token_only'\u001b[0m: \u001b[3;92mTrue\u001b[0m,\n",
       "    \u001b[32m'accumulated_embeddings'\u001b[0m: \u001b[1;35mdefaultdict\u001b[0m\u001b[1m(\u001b[0m\u001b[1m<\u001b[0m\u001b[1;95mclass\u001b[0m\u001b[39m \u001b[0m\u001b[32m'list'\u001b[0m\u001b[1m>\u001b[0m, \u001b[1m{\u001b[0m\u001b[1m}\u001b[0m\u001b[1m)\u001b[0m,\n",
       "    \u001b[32m'layers'\u001b[0m: \u001b[1m{\u001b[0m\u001b[1;36m-1\u001b[0m\u001b[1m}\u001b[0m,\n",
       "    \u001b[32m'accumulation_device'\u001b[0m: \u001b[32m'cpu'\u001b[0m,\n",
       "    \u001b[32m'reference_embeddings'\u001b[0m: \u001b[1m{\u001b[0m\u001b[1m}\u001b[0m\n",
       "\u001b[1m}\u001b[0m\n"
      ]
     },
     "metadata": {},
     "output_type": "display_data"
    }
   ],
   "source": [
    "for detector in detectors: \n",
    "    print(detector.__class__.__name__, detector.__dict__) "
   ]
  },
  {
   "cell_type": "code",
   "execution_count": 31,
   "metadata": {},
   "outputs": [
    {
     "name": "stderr",
     "output_type": "stream",
     "text": [
      "Collecting hidden states...: 100%|██████████| 7/7 [00:16<00:00,  2.32s/it]\n",
      "Fitting detectors...: 100%|██████████| 2/2 [00:00<00:00, 86.36it/s]\n"
     ]
    }
   ],
   "source": [
    "detectors = prepare_detectors(detectors, model, train_loader_b77, tokenizer)"
   ]
  },
  {
   "attachments": {},
   "cell_type": "markdown",
   "metadata": {},
   "source": [
    "### Evaluate"
   ]
  },
  {
   "attachments": {},
   "cell_type": "markdown",
   "metadata": {},
   "source": [
    "#### IN"
   ]
  },
  {
   "cell_type": "code",
   "execution_count": 32,
   "metadata": {},
   "outputs": [
    {
     "data": {
      "text/html": [
       "<pre style=\"white-space:pre;overflow-x:auto;line-height:normal;font-family:Menlo,'DejaVu Sans Mono',consolas,'Courier New',monospace\">Evaluating on the in-distribution training set\n",
       "</pre>\n"
      ],
      "text/plain": [
       "Evaluating on the in-distribution training set\n"
      ]
     },
     "metadata": {},
     "output_type": "display_data"
    },
    {
     "name": "stderr",
     "output_type": "stream",
     "text": [
      "Evaluating detectors...: 100%|██████████| 7/7 [00:17<00:00,  2.51s/it]\n"
     ]
    }
   ],
   "source": [
    "print(\"Evaluating on the in-distribution training set\")\n",
    "\n",
    "records_in_train = evaluate_dataloader(\n",
    "    model,\n",
    "    train_loader_b77,\n",
    "    tokenizer,\n",
    "    detectors\n",
    ")"
   ]
  },
  {
   "cell_type": "code",
   "execution_count": 33,
   "metadata": {},
   "outputs": [
    {
     "data": {
      "text/html": [
       "<pre style=\"white-space:pre;overflow-x:auto;line-height:normal;font-family:Menlo,'DejaVu Sans Mono',consolas,'Courier New',monospace\">Evaluating on the in-distribution test set\n",
       "</pre>\n"
      ],
      "text/plain": [
       "Evaluating on the in-distribution test set\n"
      ]
     },
     "metadata": {},
     "output_type": "display_data"
    },
    {
     "name": "stderr",
     "output_type": "stream",
     "text": [
      "Evaluating detectors...: 100%|██████████| 7/7 [00:15<00:00,  2.25s/it]\n"
     ]
    }
   ],
   "source": [
    "print(\"Evaluating on the in-distribution test set\")\n",
    "\n",
    "records_in_test = evaluate_dataloader(\n",
    "    model,\n",
    "    train_loader_b77,\n",
    "    tokenizer,\n",
    "    detectors\n",
    ")"
   ]
  },
  {
   "attachments": {},
   "cell_type": "markdown",
   "metadata": {},
   "source": [
    "#### OUT"
   ]
  },
  {
   "cell_type": "code",
   "execution_count": 34,
   "metadata": {},
   "outputs": [
    {
     "data": {
      "text/html": [
       "<pre style=\"white-space:pre;overflow-x:auto;line-height:normal;font-family:Menlo,'DejaVu Sans Mono',consolas,'Courier New',monospace\">Evaluating on the out-of-distribution ATIS dataset\n",
       "</pre>\n"
      ],
      "text/plain": [
       "Evaluating on the out-of-distribution ATIS dataset\n"
      ]
     },
     "metadata": {},
     "output_type": "display_data"
    },
    {
     "name": "stderr",
     "output_type": "stream",
     "text": [
      "Evaluating detectors...: 100%|██████████| 7/7 [00:14<00:00,  2.11s/it]\n"
     ]
    }
   ],
   "source": [
    "print(\"Evaluating on the out-of-distribution ATIS dataset\")\n",
    "\n",
    "records_out_atis = evaluate_dataloader(\n",
    "    model,\n",
    "    test_loader_atis,\n",
    "    tokenizer,\n",
    "    detectors\n",
    ")"
   ]
  },
  {
   "cell_type": "code",
   "execution_count": 35,
   "metadata": {},
   "outputs": [
    {
     "data": {
      "text/html": [
       "<pre style=\"white-space:pre;overflow-x:auto;line-height:normal;font-family:Menlo,'DejaVu Sans Mono',consolas,'Courier New',monospace\">Evaluating on the out-of-distribution BITEXT dataset\n",
       "</pre>\n"
      ],
      "text/plain": [
       "Evaluating on the out-of-distribution BITEXT dataset\n"
      ]
     },
     "metadata": {},
     "output_type": "display_data"
    },
    {
     "name": "stderr",
     "output_type": "stream",
     "text": [
      "Evaluating detectors...: 100%|██████████| 7/7 [00:14<00:00,  2.04s/it]\n"
     ]
    }
   ],
   "source": [
    "print(\"Evaluating on the out-of-distribution BITEXT dataset\")\n",
    "\n",
    "records_out_bitext = evaluate_dataloader(\n",
    "    model,\n",
    "    test_loader_bitext,\n",
    "    tokenizer,\n",
    "    detectors\n",
    ")"
   ]
  },
  {
   "attachments": {},
   "cell_type": "markdown",
   "metadata": {},
   "source": [
    "### Scorer distribution"
   ]
  },
  {
   "cell_type": "code",
   "execution_count": 36,
   "metadata": {},
   "outputs": [],
   "source": [
    "ds_names = [\n",
    "    \"b77_train\", \n",
    "    \"b77_test\", \n",
    "    \"atis\", \n",
    "    \"bitext\"\n",
    "]\n",
    "\n",
    "all_records = [\n",
    "    records_in_train, \n",
    "    records_in_test, \n",
    "    records_out_atis, \n",
    "    records_out_bitext\n",
    "]\n",
    "\n",
    "score_names = detector_names + [\"msp\", \"energy\"]\n",
    "\n",
    "all_scores = {\n",
    "    score_name: {\n",
    "        ds_name: list(records.values())[i]\n",
    "        for ds_name, records in zip(ds_names, all_records)\n",
    "    }\n",
    "    for i, score_name in enumerate(score_names)\n",
    "}"
   ]
  },
  {
   "cell_type": "code",
   "execution_count": 37,
   "metadata": {},
   "outputs": [
    {
     "data": {
      "image/png": "[encoded data removed]",
      "text/plain": [
       "<Figure size 1296x720 with 4 Axes>"
      ]
     },
     "metadata": {
      "needs_background": "light"
     },
     "output_type": "display_data"
    }
   ],
   "source": [
    "import seaborn as sns\n",
    "import matplotlib.pyplot as plt \n",
    "\n",
    "fig, axes = plt.subplots(ncols=2, nrows=2, figsize=(18, 10))\n",
    "fig.suptitle(\"OOD detectors for intent classification\", size=14)\n",
    "\n",
    "for (detector_name, scores), ax in zip(all_scores.items(), axes.flatten()):\n",
    "    tmp = pd.DataFrame(scores)\n",
    "    sns.histplot(data=tmp, ax=ax, bins=50) \n",
    "\n",
    "    ax.set_title(detector_name); "
   ]
  },
  {
   "attachments": {},
   "cell_type": "markdown",
   "metadata": {},
   "source": [
    "### Metrics"
   ]
  },
  {
   "cell_type": "code",
   "execution_count": 62,
   "metadata": {},
   "outputs": [],
   "source": [
    "from sklearn.metrics import roc_auc_score, roc_curve"
   ]
  },
  {
   "cell_type": "code",
   "execution_count": 66,
   "metadata": {},
   "outputs": [],
   "source": [
    "# get OOD labels (0 for IN-DS samples, 1 for OUT-DS samples)\n",
    "ood_labels_in = [\n",
    "    config_args_in[\"ood_label\"] \n",
    "    for _ in range(config_args_in[\"train_size\"]+config_args_in[\"test_size\"])\n",
    "]\n",
    "\n",
    "ood_labels_out = [\n",
    "    config_args_out[\"ood_label\"] \n",
    "    for _ in range(config_args_out[\"test_size\"])\n",
    "]\n",
    "\n",
    "ood_labels = ood_labels_in + ood_labels_out + ood_labels_out\n",
    "\n",
    "# get OOD scores for each scoring function\n",
    "ood_scores = {\n",
    "    score: list(chain(*[\n",
    "        ds for ds in all_scores[score].values()\n",
    "    ]))\n",
    "    for score in score_names\n",
    "}\n",
    "\n",
    "# compute AUROC for each scoring function\n",
    "auroc = {\n",
    "    score: roc_auc_score(ood_labels, ood_scores[score]) \n",
    "    for score in score_names\n",
    "}\n",
    "\n",
    "roc = {\n",
    "    score: roc_curve(ood_labels, ood_scores[score], pos_label=1)\n",
    "    for score in score_names\n",
    "}"
   ]
  },
  {
   "cell_type": "code",
   "execution_count": 77,
   "metadata": {},
   "outputs": [
    {
     "data": {
      "image/png": "[encoded data removed]",
      "text/plain": [
       "<Figure size 1296x720 with 4 Axes>"
      ]
     },
     "metadata": {
      "needs_background": "light"
     },
     "output_type": "display_data"
    }
   ],
   "source": [
    "fig, axes = plt.subplots(nrows=2, ncols=2, figsize=(18, 10))\n",
    "\n",
    "for (score, (fpr, tpr, thresholds)), ax in zip(roc.items(), axes.flatten()): \n",
    "    sns.lineplot(x=fpr, y=tpr, ax=ax)\n",
    "    sns.lineplot(x=[0, 1], y=[0, 1], linestyle=\"dashed\", ax=ax, color=\"black\") \n",
    "\n",
    "    ax.set_xlim(0, 1)\n",
    "    ax.set_ylim(0, 1.1)\n",
    "\n",
    "    ax.set_xlabel(\"False Positive Rate\")\n",
    "    ax.set_xlabel(\"True Positive Rate\")\n",
    "    ax.set_title(f\"{score} | AUROC={round(auroc[score], 2)}\"); "
   ]
  }
 ],
 "metadata": {
  "kernelspec": {
   "display_name": "Python 3",
   "language": "python",
   "name": "python3"
  },
  "language_info": {
   "codemirror_mode": {
    "name": "ipython",
    "version": 3
   },
   "file_extension": ".py",
   "mimetype": "text/x-python",
   "name": "python",
   "nbconvert_exporter": "python",
   "pygments_lexer": "ipython3",
   "version": "3.9.9"
  },
  "orig_nbformat": 4
 },
 "nbformat": 4,
 "nbformat_minor": 2
}
