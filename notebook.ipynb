{
 "cells": [
  {
   "attachments": {},
   "cell_type": "markdown",
   "metadata": {},
   "source": [
    "# OOD Detection for Customer Intent Classification\n",
    "\n",
    "## Resources\n",
    "\n",
    "Datasets \n",
    "- [banking77](https://huggingface.co/datasets/banking77)\n",
    "- [ATIS Airline Travel Information System](https://www.kaggle.com/datasets/hassanamin/atis-airlinetravelinformationsystem) \n",
    "- [Bitext - Customer Service Tagged Training Dataset for Intent Detection](https://github.com/bitext/customer-support-intent-detection-training-dataset)\n",
    "\n",
    "Model\n",
    "- [philschmid/BERT-Banking77](https://huggingface.co/philschmid/BERT-Banking77) \n",
    "\n",
    "BERT resources\n",
    "- [BERT Neural Network - EXPLAINED!](https://www.youtube.com/watch?v=xI0HHN5XKDo) \n",
    "- [Transformer Neural Networks - EXPLAINED! (Attention is all you need)](https://www.youtube.com/watch?v=TQQlZhbC5ps)\n",
    "\n",
    "OOD detection\n",
    "- [`Todd`](https://github.com/icannos/Todd)\n",
    "- [OOD Classification `ToddBenchmark`](https://github.com/icannos/ToddBenchmark/tree/master/examples/classifications) "
   ]
  },
  {
   "attachments": {},
   "cell_type": "markdown",
   "metadata": {},
   "source": [
    "## Setup"
   ]
  },
  {
   "attachments": {},
   "cell_type": "markdown",
   "metadata": {},
   "source": [
    "### Import"
   ]
  },
  {
   "cell_type": "code",
   "execution_count": 4,
   "metadata": {},
   "outputs": [],
   "source": [
    "import torch\n",
    "from tqdm import tqdm\n",
    "\n",
    "from typing import List"
   ]
  },
  {
   "cell_type": "code",
   "execution_count": 3,
   "metadata": {},
   "outputs": [],
   "source": [
    "from Todd import ScorerType, MahalanobisScorer"
   ]
  },
  {
   "cell_type": "code",
   "execution_count": 1,
   "metadata": {},
   "outputs": [],
   "source": [
    "from toddbenchmark.classification_datasets import prep_model\n",
    "from toddbenchmark.classification_datasets_configs import (\n",
    "    DATASETS_CONFIGS,\n",
    "    load_requested_dataset,\n",
    ")\n",
    "\n",
    "from toddbenchmark.utils_classification import (\n",
    "    prepare_detectors,\n",
    "    evaluate_dataloader,\n",
    ")\n",
    "\n",
    "from toddbenchmark.utils import mk_file_name"
   ]
  },
  {
   "attachments": {},
   "cell_type": "markdown",
   "metadata": {},
   "source": [
    "### Load model and tokenizer"
   ]
  },
  {
   "cell_type": "code",
   "execution_count": null,
   "metadata": {},
   "outputs": [],
   "source": [
    "MODELS = {\"BERT\": \"philschmid/BERT-Banking77\", \"DistilBERT\": \"philschmid/DistilBERT-Banking77\"} "
   ]
  },
  {
   "cell_type": "code",
   "execution_count": 6,
   "metadata": {},
   "outputs": [
    {
     "name": "stderr",
     "output_type": "stream",
     "text": [
      "Downloading: 100%|██████████| 313/313 [00:00<00:00, 38.9kB/s]\n",
      "c:\\Users\\pemma\\AppData\\Local\\Programs\\Python\\Python39\\lib\\site-packages\\huggingface_hub\\file_download.py:127: UserWarning: `huggingface_hub` cache-system uses symlinks by default to efficiently store duplicated files but your machine does not support them in C:\\Users\\pemma\\.cache\\huggingface\\hub. Caching files will still work but in a degraded version that might require more space on your disk. This warning can be disabled by setting the `HF_HUB_DISABLE_SYMLINKS_WARNING` environment variable. For more details, see https://huggingface.co/docs/huggingface_hub/how-to-cache#limitations.\n",
      "To support symlinks on Windows, you either need to activate Developer Mode or to run Python as an administrator. In order to see activate developer mode, see this article: https://docs.microsoft.com/en-us/windows/apps/get-started/enable-your-device-for-development\n",
      "  warnings.warn(message)\n",
      "Downloading: 100%|██████████| 232k/232k [00:00<00:00, 738kB/s] \n",
      "Downloading: 100%|██████████| 466k/466k [00:01<00:00, 457kB/s]  \n",
      "Downloading: 100%|██████████| 112/112 [00:00<?, ?B/s] \n",
      "Downloading: 100%|██████████| 5.95k/5.95k [00:00<00:00, 744kB/s]\n",
      "Downloading:  50%|█████     | 219M/438M [05:55<05:45, 633kB/s]   "
     ]
    }
   ],
   "source": [
    "model, tokenizer = prep_model(MODELS[\"BERT\"])"
   ]
  },
  {
   "cell_type": "code",
   "execution_count": null,
   "metadata": {},
   "outputs": [],
   "source": [
    "model "
   ]
  },
  {
   "attachments": {},
   "cell_type": "markdown",
   "metadata": {},
   "source": [
    "### Load reference dataset"
   ]
  },
  {
   "cell_type": "code",
   "execution_count": null,
   "metadata": {},
   "outputs": [],
   "source": [
    "train_loader, test_loader = load_requested_dataset(\n",
    "    config_name=\"b77\", \n",
    "    tokenizer=tokenizer, \n",
    "    train_size=100, \n",
    "    validation_size=0, \n",
    "    test_size=100\n",
    ")"
   ]
  },
  {
   "attachments": {},
   "cell_type": "markdown",
   "metadata": {},
   "source": [
    "## Detectors"
   ]
  },
  {
   "attachments": {},
   "cell_type": "markdown",
   "metadata": {},
   "source": [
    "### Instantiate and fit"
   ]
  },
  {
   "cell_type": "code",
   "execution_count": null,
   "metadata": {},
   "outputs": [],
   "source": [
    "detectors: List[ScorerType] = [MahalanobisScorer(layers=[-1])]"
   ]
  },
  {
   "cell_type": "code",
   "execution_count": null,
   "metadata": {},
   "outputs": [],
   "source": [
    "detectors = prepare_detectors(detectors, model, train_loader, tokenizer)"
   ]
  },
  {
   "attachments": {},
   "cell_type": "markdown",
   "metadata": {},
   "source": [
    "### Evaluate"
   ]
  },
  {
   "attachments": {},
   "cell_type": "markdown",
   "metadata": {},
   "source": [
    "#### IN dataset"
   ]
  },
  {
   "cell_type": "code",
   "execution_count": null,
   "metadata": {},
   "outputs": [],
   "source": [
    "print(\"Evaluating on the in-distribution training set\")\n",
    "\n",
    "records = evaluate_dataloader(\n",
    "    model,\n",
    "    train_loader,\n",
    "    tokenizer,\n",
    "    detectors\n",
    ")"
   ]
  },
  {
   "cell_type": "code",
   "execution_count": null,
   "metadata": {},
   "outputs": [],
   "source": [
    "print(\"Evaluating on the in-distribution test set\")\n",
    "\n",
    "records = evaluate_dataloader(\n",
    "    model,\n",
    "    test_loader,\n",
    "    tokenizer,\n",
    "    detectors\n",
    ")"
   ]
  }
 ],
 "metadata": {
  "kernelspec": {
   "display_name": "Python 3",
   "language": "python",
   "name": "python3"
  },
  "language_info": {
   "codemirror_mode": {
    "name": "ipython",
    "version": 3
   },
   "file_extension": ".py",
   "mimetype": "text/x-python",
   "name": "python",
   "nbconvert_exporter": "python",
   "pygments_lexer": "ipython3",
   "version": "3.9.9"
  },
  "orig_nbformat": 4
 },
 "nbformat": 4,
 "nbformat_minor": 2
}
